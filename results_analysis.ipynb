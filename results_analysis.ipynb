{
 "cells": [
  {
   "cell_type": "code",
   "execution_count": 70,
   "metadata": {},
   "outputs": [],
   "source": [
    "import json\n",
    "import pandas as pd\n",
    "import numpy as np\n",
    "import matplotlib.pyplot as plt\n",
    "from projLib.pair_constructor import PairConfiguration\n",
    "from sklearn import metrics"
   ]
  },
  {
   "cell_type": "code",
   "execution_count": 10,
   "metadata": {},
   "outputs": [
    {
     "name": "stderr",
     "output_type": "stream",
     "text": [
      "/home/lrabuzin/ETH/Sem3/realworld_contrastive_learning/projLib/pair_constructor.py:133: SettingWithCopyWarning: \n",
      "A value is trying to be set on a copy of a slice from a DataFrame.\n",
      "Try using .loc[row_indexer,col_indexer] = value instead\n",
      "\n",
      "See the caveats in the documentation: https://pandas.pydata.org/pandas-docs/stable/user_guide/indexing.html#returning-a-view-versus-a-copy\n",
      "  self.valid_labels.loc[:,\"content_combo\"] = self.valid_labels[\"list_object\"].apply(lambda x: frozenset(filter(lambda t: t in self.content_categories, x)))\n"
     ]
    }
   ],
   "source": [
    "config_2 = PairConfiguration([\"/home/lrabuzin/ETH/Sem3/realworld_contrastive_learning/data/train.json\", \"/home/lrabuzin/ETH/Sem3/realworld_contrastive_learning/data/val.json\", \"/home/lrabuzin/ETH/Sem3/realworld_contrastive_learning/data/test.json\"], \"/home/lrabuzin/ETH/Sem3/sempro/BURST_annotations/info/categories.json\",k=20 ,n=[3])"
   ]
  },
  {
   "cell_type": "code",
   "execution_count": 3,
   "metadata": {},
   "outputs": [],
   "source": [
    "results = pd.read_csv(\"results.csv\")"
   ]
  },
  {
   "cell_type": "code",
   "execution_count": 19,
   "metadata": {},
   "outputs": [
    {
     "data": {
      "text/html": [
       "<div>\n",
       "<style scoped>\n",
       "    .dataframe tbody tr th:only-of-type {\n",
       "        vertical-align: middle;\n",
       "    }\n",
       "\n",
       "    .dataframe tbody tr th {\n",
       "        vertical-align: top;\n",
       "    }\n",
       "\n",
       "    .dataframe thead th {\n",
       "        text-align: right;\n",
       "    }\n",
       "</style>\n",
       "<table border=\"1\" class=\"dataframe\">\n",
       "  <thead>\n",
       "    <tr style=\"text-align: right;\">\n",
       "      <th></th>\n",
       "      <th></th>\n",
       "      <th></th>\n",
       "      <th>bowl</th>\n",
       "      <th>monkey</th>\n",
       "      <th>blanket</th>\n",
       "      <th>lion</th>\n",
       "      <th>horse</th>\n",
       "      <th>bicycle</th>\n",
       "      <th>elephant</th>\n",
       "      <th>pillow</th>\n",
       "      <th>cat</th>\n",
       "      <th>towel</th>\n",
       "      <th>cellular_telephone</th>\n",
       "      <th>book</th>\n",
       "      <th>truck</th>\n",
       "      <th>fish</th>\n",
       "      <th>bottle</th>\n",
       "      <th>ball</th>\n",
       "      <th>cup</th>\n",
       "      <th>dog</th>\n",
       "      <th>car</th>\n",
       "      <th>person</th>\n",
       "    </tr>\n",
       "  </thead>\n",
       "  <tbody>\n",
       "    <tr>\n",
       "      <th>0</th>\n",
       "      <td>0</td>\n",
       "      <td>acc</td>\n",
       "      <td>0.998355</td>\n",
       "      <td>1.0</td>\n",
       "      <td>0.989309</td>\n",
       "      <td>1.0</td>\n",
       "      <td>0.999178</td>\n",
       "      <td>0.991776</td>\n",
       "      <td>1.0</td>\n",
       "      <td>0.990132</td>\n",
       "      <td>0.995066</td>\n",
       "      <td>0.993421</td>\n",
       "      <td>0.989309</td>\n",
       "      <td>0.999178</td>\n",
       "      <td>0.995066</td>\n",
       "      <td>1.0</td>\n",
       "      <td>0.987664</td>\n",
       "      <td>0.999178</td>\n",
       "      <td>0.986842</td>\n",
       "      <td>0.984375</td>\n",
       "      <td>0.993421</td>\n",
       "      <td>1.0</td>\n",
       "    </tr>\n",
       "    <tr>\n",
       "      <th>1</th>\n",
       "      <td>1</td>\n",
       "      <td>prec</td>\n",
       "      <td>1.000000</td>\n",
       "      <td>1.0</td>\n",
       "      <td>0.976608</td>\n",
       "      <td>0.0</td>\n",
       "      <td>1.000000</td>\n",
       "      <td>0.964286</td>\n",
       "      <td>1.0</td>\n",
       "      <td>0.968992</td>\n",
       "      <td>0.930233</td>\n",
       "      <td>0.995575</td>\n",
       "      <td>0.984925</td>\n",
       "      <td>1.000000</td>\n",
       "      <td>0.950000</td>\n",
       "      <td>1.0</td>\n",
       "      <td>0.993266</td>\n",
       "      <td>1.000000</td>\n",
       "      <td>0.987745</td>\n",
       "      <td>0.988024</td>\n",
       "      <td>0.971429</td>\n",
       "      <td>1.0</td>\n",
       "    </tr>\n",
       "    <tr>\n",
       "      <th>2</th>\n",
       "      <td>2</td>\n",
       "      <td>recall</td>\n",
       "      <td>0.971429</td>\n",
       "      <td>1.0</td>\n",
       "      <td>0.948864</td>\n",
       "      <td>0.0</td>\n",
       "      <td>0.900000</td>\n",
       "      <td>0.920455</td>\n",
       "      <td>1.0</td>\n",
       "      <td>0.984252</td>\n",
       "      <td>1.000000</td>\n",
       "      <td>0.969828</td>\n",
       "      <td>0.951456</td>\n",
       "      <td>0.994186</td>\n",
       "      <td>0.950000</td>\n",
       "      <td>1.0</td>\n",
       "      <td>0.957792</td>\n",
       "      <td>0.954545</td>\n",
       "      <td>0.973430</td>\n",
       "      <td>0.906593</td>\n",
       "      <td>0.971429</td>\n",
       "      <td>1.0</td>\n",
       "    </tr>\n",
       "    <tr>\n",
       "      <th>3</th>\n",
       "      <td>3</td>\n",
       "      <td>f1</td>\n",
       "      <td>0.985507</td>\n",
       "      <td>1.0</td>\n",
       "      <td>0.962536</td>\n",
       "      <td>0.0</td>\n",
       "      <td>0.947368</td>\n",
       "      <td>0.941860</td>\n",
       "      <td>1.0</td>\n",
       "      <td>0.976562</td>\n",
       "      <td>0.963855</td>\n",
       "      <td>0.982533</td>\n",
       "      <td>0.967901</td>\n",
       "      <td>0.997085</td>\n",
       "      <td>0.950000</td>\n",
       "      <td>1.0</td>\n",
       "      <td>0.975207</td>\n",
       "      <td>0.976744</td>\n",
       "      <td>0.980535</td>\n",
       "      <td>0.945559</td>\n",
       "      <td>0.971429</td>\n",
       "      <td>1.0</td>\n",
       "    </tr>\n",
       "    <tr>\n",
       "      <th>4</th>\n",
       "      <td>4</td>\n",
       "      <td>roc_auc</td>\n",
       "      <td>0.985714</td>\n",
       "      <td>1.0</td>\n",
       "      <td>0.972509</td>\n",
       "      <td>-1.0</td>\n",
       "      <td>0.950000</td>\n",
       "      <td>0.958897</td>\n",
       "      <td>1.0</td>\n",
       "      <td>0.987968</td>\n",
       "      <td>0.997359</td>\n",
       "      <td>0.984406</td>\n",
       "      <td>0.974243</td>\n",
       "      <td>0.997093</td>\n",
       "      <td>0.973702</td>\n",
       "      <td>1.0</td>\n",
       "      <td>0.977795</td>\n",
       "      <td>0.977273</td>\n",
       "      <td>0.983598</td>\n",
       "      <td>0.952330</td>\n",
       "      <td>0.983856</td>\n",
       "      <td>1.0</td>\n",
       "    </tr>\n",
       "  </tbody>\n",
       "</table>\n",
       "</div>"
      ],
      "text/plain": [
       "                   bowl  monkey   blanket  lion     horse   bicycle  elephant  \\\n",
       "0  0      acc  0.998355     1.0  0.989309   1.0  0.999178  0.991776       1.0   \n",
       "1  1     prec  1.000000     1.0  0.976608   0.0  1.000000  0.964286       1.0   \n",
       "2  2   recall  0.971429     1.0  0.948864   0.0  0.900000  0.920455       1.0   \n",
       "3  3       f1  0.985507     1.0  0.962536   0.0  0.947368  0.941860       1.0   \n",
       "4  4  roc_auc  0.985714     1.0  0.972509  -1.0  0.950000  0.958897       1.0   \n",
       "\n",
       "     pillow       cat     towel  cellular_telephone      book     truck  fish  \\\n",
       "0  0.990132  0.995066  0.993421            0.989309  0.999178  0.995066   1.0   \n",
       "1  0.968992  0.930233  0.995575            0.984925  1.000000  0.950000   1.0   \n",
       "2  0.984252  1.000000  0.969828            0.951456  0.994186  0.950000   1.0   \n",
       "3  0.976562  0.963855  0.982533            0.967901  0.997085  0.950000   1.0   \n",
       "4  0.987968  0.997359  0.984406            0.974243  0.997093  0.973702   1.0   \n",
       "\n",
       "     bottle      ball       cup       dog       car  person  \n",
       "0  0.987664  0.999178  0.986842  0.984375  0.993421     1.0  \n",
       "1  0.993266  1.000000  0.987745  0.988024  0.971429     1.0  \n",
       "2  0.957792  0.954545  0.973430  0.906593  0.971429     1.0  \n",
       "3  0.975207  0.976744  0.980535  0.945559  0.971429     1.0  \n",
       "4  0.977795  0.977273  0.983598  0.952330  0.983856     1.0  "
      ]
     },
     "metadata": {},
     "output_type": "display_data"
    }
   ],
   "source": [
    "pd.set_option('display.max_columns', None)  # or 1000\n",
    "display(results.rename(lambda col: config_2.categories_decoder.get(int(col)) if col.isnumeric()  else \"\", axis=1))"
   ]
  },
  {
   "cell_type": "code",
   "execution_count": 68,
   "metadata": {},
   "outputs": [],
   "source": [
    "with open(\"raw_preds.json\", \"r\") as f:\n",
    "    raw_preds = json.load(f)\n",
    "\n",
    "preds = list(zip(*list(raw_preds.values())))\n",
    "predsums = []\n",
    "for pred in preds:\n",
    "    predsums.append(sum(pred))\n"
   ]
  },
  {
   "cell_type": "code",
   "execution_count": 74,
   "metadata": {},
   "outputs": [],
   "source": [
    "with open(\"raw_labels.json\", \"r\") as f:\n",
    "    raw_labels = json.load(f)"
   ]
  },
  {
   "cell_type": "code",
   "execution_count": 66,
   "metadata": {},
   "outputs": [
    {
     "data": {
      "text/plain": [
       "[<matplotlib.axis.XTick at 0x7f89cbb51a50>,\n",
       " <matplotlib.axis.XTick at 0x7f89cbb51a20>,\n",
       " <matplotlib.axis.XTick at 0x7f89cbc5afb0>,\n",
       " <matplotlib.axis.XTick at 0x7f89cbcbd4b0>,\n",
       " <matplotlib.axis.XTick at 0x7f89cbb82c20>]"
      ]
     },
     "execution_count": 66,
     "metadata": {},
     "output_type": "execute_result"
    },
    {
     "data": {
      "image/png": "[encoded data removed]",
      "text/plain": [
       "<Figure size 640x480 with 1 Axes>"
      ]
     },
     "metadata": {},
     "output_type": "display_data"
    }
   ],
   "source": [
    "bins = np.arange(0, 5.5) - 0.5\n",
    "fig, ax = plt.subplots()\n",
    "_ = ax.hist(predsums, bins)\n",
    "ax.set_xticks([0,1,2,3,4])"
   ]
  },
  {
   "cell_type": "code",
   "execution_count": 75,
   "metadata": {},
   "outputs": [
    {
     "data": {
      "text/plain": [
       "<sklearn.metrics._plot.confusion_matrix.ConfusionMatrixDisplay at 0x7f89cbc11f90>"
      ]
     },
     "execution_count": 75,
     "metadata": {},
     "output_type": "execute_result"
    },
    {
     "data": {
      "image/png": "[encoded data removed]",
      "text/plain": [
       "<Figure size 640x480 with 2 Axes>"
      ]
     },
     "metadata": {},
     "output_type": "display_data"
    }
   ],
   "source": [
    "metrics.ConfusionMatrixDisplay.from_predictions(raw_preds[\"805.0\"], raw_labels[\"805.0\"])"
   ]
  }
 ],
 "metadata": {
  "kernelspec": {
   "display_name": "blockident",
   "language": "python",
   "name": "python3"
  },
  "language_info": {
   "codemirror_mode": {
    "name": "ipython",
    "version": 3
   },
   "file_extension": ".py",
   "mimetype": "text/x-python",
   "name": "python",
   "nbconvert_exporter": "python",
   "pygments_lexer": "ipython3",
   "version": "3.10.9"
  },
  "orig_nbformat": 4
 },
 "nbformat": 4,
 "nbformat_minor": 2
}
