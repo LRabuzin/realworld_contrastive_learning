{
 "cells": [
  {
   "cell_type": "code",
   "execution_count": 70,
   "metadata": {},
   "outputs": [],
   "source": [
    "import json\n",
    "import pandas as pd\n",
    "import numpy as np\n",
    "import matplotlib.pyplot as plt\n",
    "from projLib.pair_constructor import PairConfiguration\n",
    "from sklearn import metrics"
   ]
  },
  {
   "cell_type": "code",
   "execution_count": 10,
   "metadata": {},
   "outputs": [
    {
     "name": "stderr",
     "output_type": "stream",
     "text": [
      "/home/lrabuzin/ETH/Sem3/realworld_contrastive_learning/projLib/pair_constructor.py:133: SettingWithCopyWarning: \n",
      "A value is trying to be set on a copy of a slice from a DataFrame.\n",
      "Try using .loc[row_indexer,col_indexer] = value instead\n",
      "\n",
      "See the caveats in the documentation: https://pandas.pydata.org/pandas-docs/stable/user_guide/indexing.html#returning-a-view-versus-a-copy\n",
      "  self.valid_labels.loc[:,\"content_combo\"] = self.valid_labels[\"list_object\"].apply(lambda x: frozenset(filter(lambda t: t in self.content_categories, x)))\n"
     ]
    }
   ],
   "source": [
    "config_2 = PairConfiguration([\"/home/lrabuzin/ETH/Sem3/realworld_contrastive_learning/data/train.json\", \"/home/lrabuzin/ETH/Sem3/realworld_contrastive_learning/data/val.json\", \"/home/lrabuzin/ETH/Sem3/realworld_contrastive_learning/data/test.json\"], \"/home/lrabuzin/ETH/Sem3/sempro/BURST_annotations/info/categories.json\",k=20 ,n=[3])"
   ]
  },
  {
   "cell_type": "code",
   "execution_count": 83,
   "metadata": {},
   "outputs": [],
   "source": [
    "results = pd.read_csv(\"results4.csv\")"
   ]
  },
  {
   "cell_type": "code",
   "execution_count": 84,
   "metadata": {},
   "outputs": [
    {
     "data": {
      "text/html": [
       "<div>\n",
       "<style scoped>\n",
       "    .dataframe tbody tr th:only-of-type {\n",
       "        vertical-align: middle;\n",
       "    }\n",
       "\n",
       "    .dataframe tbody tr th {\n",
       "        vertical-align: top;\n",
       "    }\n",
       "\n",
       "    .dataframe thead th {\n",
       "        text-align: right;\n",
       "    }\n",
       "</style>\n",
       "<table border=\"1\" class=\"dataframe\">\n",
       "  <thead>\n",
       "    <tr style=\"text-align: right;\">\n",
       "      <th></th>\n",
       "      <th>Unnamed: 0</th>\n",
       "      <th>metric</th>\n",
       "      <th>139</th>\n",
       "      <th>709</th>\n",
       "      <th>110</th>\n",
       "      <th>660</th>\n",
       "      <th>579</th>\n",
       "      <th>95</th>\n",
       "      <th>429</th>\n",
       "      <th>817</th>\n",
       "      <th>229</th>\n",
       "      <th>1128</th>\n",
       "      <th>235</th>\n",
       "      <th>126</th>\n",
       "      <th>1144</th>\n",
       "      <th>453</th>\n",
       "      <th>133</th>\n",
       "      <th>41</th>\n",
       "      <th>347</th>\n",
       "      <th>382</th>\n",
       "      <th>211</th>\n",
       "      <th>805</th>\n",
       "    </tr>\n",
       "  </thead>\n",
       "  <tbody>\n",
       "    <tr>\n",
       "      <th>0</th>\n",
       "      <td>0</td>\n",
       "      <td>acc</td>\n",
       "      <td>1.0</td>\n",
       "      <td>1.0</td>\n",
       "      <td>1.0</td>\n",
       "      <td>1.0</td>\n",
       "      <td>1.0</td>\n",
       "      <td>1.0</td>\n",
       "      <td>1.0</td>\n",
       "      <td>0.984375</td>\n",
       "      <td>0.996875</td>\n",
       "      <td>1.0</td>\n",
       "      <td>0.984375</td>\n",
       "      <td>0.984375</td>\n",
       "      <td>0.9875</td>\n",
       "      <td>1.0</td>\n",
       "      <td>0.978125</td>\n",
       "      <td>1.0</td>\n",
       "      <td>0.984375</td>\n",
       "      <td>0.984375</td>\n",
       "      <td>1.0</td>\n",
       "      <td>1.0</td>\n",
       "    </tr>\n",
       "    <tr>\n",
       "      <th>1</th>\n",
       "      <td>1</td>\n",
       "      <td>prec</td>\n",
       "      <td>1.0</td>\n",
       "      <td>0.0</td>\n",
       "      <td>1.0</td>\n",
       "      <td>0.0</td>\n",
       "      <td>0.0</td>\n",
       "      <td>1.0</td>\n",
       "      <td>0.0</td>\n",
       "      <td>0.980695</td>\n",
       "      <td>1.000000</td>\n",
       "      <td>1.0</td>\n",
       "      <td>1.000000</td>\n",
       "      <td>1.000000</td>\n",
       "      <td>0.0000</td>\n",
       "      <td>0.0</td>\n",
       "      <td>1.000000</td>\n",
       "      <td>0.0</td>\n",
       "      <td>1.000000</td>\n",
       "      <td>0.993197</td>\n",
       "      <td>1.0</td>\n",
       "      <td>1.0</td>\n",
       "    </tr>\n",
       "    <tr>\n",
       "      <th>2</th>\n",
       "      <td>2</td>\n",
       "      <td>recall</td>\n",
       "      <td>1.0</td>\n",
       "      <td>0.0</td>\n",
       "      <td>1.0</td>\n",
       "      <td>0.0</td>\n",
       "      <td>0.0</td>\n",
       "      <td>1.0</td>\n",
       "      <td>0.0</td>\n",
       "      <td>1.000000</td>\n",
       "      <td>0.500000</td>\n",
       "      <td>1.0</td>\n",
       "      <td>0.886364</td>\n",
       "      <td>0.964286</td>\n",
       "      <td>0.0000</td>\n",
       "      <td>0.0</td>\n",
       "      <td>0.766667</td>\n",
       "      <td>0.0</td>\n",
       "      <td>0.947917</td>\n",
       "      <td>0.973333</td>\n",
       "      <td>1.0</td>\n",
       "      <td>1.0</td>\n",
       "    </tr>\n",
       "    <tr>\n",
       "      <th>3</th>\n",
       "      <td>3</td>\n",
       "      <td>f1</td>\n",
       "      <td>1.0</td>\n",
       "      <td>0.0</td>\n",
       "      <td>1.0</td>\n",
       "      <td>0.0</td>\n",
       "      <td>0.0</td>\n",
       "      <td>1.0</td>\n",
       "      <td>0.0</td>\n",
       "      <td>0.990253</td>\n",
       "      <td>0.666667</td>\n",
       "      <td>1.0</td>\n",
       "      <td>0.939759</td>\n",
       "      <td>0.981818</td>\n",
       "      <td>0.0000</td>\n",
       "      <td>0.0</td>\n",
       "      <td>0.867925</td>\n",
       "      <td>0.0</td>\n",
       "      <td>0.973262</td>\n",
       "      <td>0.983165</td>\n",
       "      <td>1.0</td>\n",
       "      <td>1.0</td>\n",
       "    </tr>\n",
       "    <tr>\n",
       "      <th>4</th>\n",
       "      <td>4</td>\n",
       "      <td>roc_auc</td>\n",
       "      <td>1.0</td>\n",
       "      <td>-1.0</td>\n",
       "      <td>1.0</td>\n",
       "      <td>-1.0</td>\n",
       "      <td>-1.0</td>\n",
       "      <td>1.0</td>\n",
       "      <td>-1.0</td>\n",
       "      <td>0.962121</td>\n",
       "      <td>0.750000</td>\n",
       "      <td>1.0</td>\n",
       "      <td>0.943182</td>\n",
       "      <td>0.982143</td>\n",
       "      <td>-1.0000</td>\n",
       "      <td>-1.0</td>\n",
       "      <td>0.883333</td>\n",
       "      <td>-1.0</td>\n",
       "      <td>0.973958</td>\n",
       "      <td>0.983725</td>\n",
       "      <td>1.0</td>\n",
       "      <td>-1.0</td>\n",
       "    </tr>\n",
       "  </tbody>\n",
       "</table>\n",
       "</div>"
      ],
      "text/plain": [
       "   Unnamed: 0   metric  139  709  110  660  579   95  429       817       229  \\\n",
       "0           0      acc  1.0  1.0  1.0  1.0  1.0  1.0  1.0  0.984375  0.996875   \n",
       "1           1     prec  1.0  0.0  1.0  0.0  0.0  1.0  0.0  0.980695  1.000000   \n",
       "2           2   recall  1.0  0.0  1.0  0.0  0.0  1.0  0.0  1.000000  0.500000   \n",
       "3           3       f1  1.0  0.0  1.0  0.0  0.0  1.0  0.0  0.990253  0.666667   \n",
       "4           4  roc_auc  1.0 -1.0  1.0 -1.0 -1.0  1.0 -1.0  0.962121  0.750000   \n",
       "\n",
       "   1128       235       126    1144  453       133   41       347       382  \\\n",
       "0   1.0  0.984375  0.984375  0.9875  1.0  0.978125  1.0  0.984375  0.984375   \n",
       "1   1.0  1.000000  1.000000  0.0000  0.0  1.000000  0.0  1.000000  0.993197   \n",
       "2   1.0  0.886364  0.964286  0.0000  0.0  0.766667  0.0  0.947917  0.973333   \n",
       "3   1.0  0.939759  0.981818  0.0000  0.0  0.867925  0.0  0.973262  0.983165   \n",
       "4   1.0  0.943182  0.982143 -1.0000 -1.0  0.883333 -1.0  0.973958  0.983725   \n",
       "\n",
       "   211  805  \n",
       "0  1.0  1.0  \n",
       "1  1.0  1.0  \n",
       "2  1.0  1.0  \n",
       "3  1.0  1.0  \n",
       "4  1.0 -1.0  "
      ]
     },
     "metadata": {},
     "output_type": "display_data"
    }
   ],
   "source": [
    "display(results)"
   ]
  },
  {
   "cell_type": "code",
   "execution_count": 85,
   "metadata": {},
   "outputs": [
    {
     "data": {
      "text/html": [
       "<div>\n",
       "<style scoped>\n",
       "    .dataframe tbody tr th:only-of-type {\n",
       "        vertical-align: middle;\n",
       "    }\n",
       "\n",
       "    .dataframe tbody tr th {\n",
       "        vertical-align: top;\n",
       "    }\n",
       "\n",
       "    .dataframe thead th {\n",
       "        text-align: right;\n",
       "    }\n",
       "</style>\n",
       "<table border=\"1\" class=\"dataframe\">\n",
       "  <thead>\n",
       "    <tr style=\"text-align: right;\">\n",
       "      <th></th>\n",
       "      <th></th>\n",
       "      <th></th>\n",
       "      <th>bowl</th>\n",
       "      <th>monkey</th>\n",
       "      <th>blanket</th>\n",
       "      <th>lion</th>\n",
       "      <th>horse</th>\n",
       "      <th>bicycle</th>\n",
       "      <th>elephant</th>\n",
       "      <th>pillow</th>\n",
       "      <th>cat</th>\n",
       "      <th>towel</th>\n",
       "      <th>cellular_telephone</th>\n",
       "      <th>book</th>\n",
       "      <th>truck</th>\n",
       "      <th>fish</th>\n",
       "      <th>bottle</th>\n",
       "      <th>ball</th>\n",
       "      <th>cup</th>\n",
       "      <th>dog</th>\n",
       "      <th>car</th>\n",
       "      <th>person</th>\n",
       "    </tr>\n",
       "  </thead>\n",
       "  <tbody>\n",
       "    <tr>\n",
       "      <th>0</th>\n",
       "      <td>0</td>\n",
       "      <td>acc</td>\n",
       "      <td>1.0</td>\n",
       "      <td>1.0</td>\n",
       "      <td>1.0</td>\n",
       "      <td>1.0</td>\n",
       "      <td>1.0</td>\n",
       "      <td>1.0</td>\n",
       "      <td>1.0</td>\n",
       "      <td>0.984375</td>\n",
       "      <td>0.996875</td>\n",
       "      <td>1.0</td>\n",
       "      <td>0.984375</td>\n",
       "      <td>0.984375</td>\n",
       "      <td>0.9875</td>\n",
       "      <td>1.0</td>\n",
       "      <td>0.978125</td>\n",
       "      <td>1.0</td>\n",
       "      <td>0.984375</td>\n",
       "      <td>0.984375</td>\n",
       "      <td>1.0</td>\n",
       "      <td>1.0</td>\n",
       "    </tr>\n",
       "    <tr>\n",
       "      <th>1</th>\n",
       "      <td>1</td>\n",
       "      <td>prec</td>\n",
       "      <td>1.0</td>\n",
       "      <td>0.0</td>\n",
       "      <td>1.0</td>\n",
       "      <td>0.0</td>\n",
       "      <td>0.0</td>\n",
       "      <td>1.0</td>\n",
       "      <td>0.0</td>\n",
       "      <td>0.980695</td>\n",
       "      <td>1.000000</td>\n",
       "      <td>1.0</td>\n",
       "      <td>1.000000</td>\n",
       "      <td>1.000000</td>\n",
       "      <td>0.0000</td>\n",
       "      <td>0.0</td>\n",
       "      <td>1.000000</td>\n",
       "      <td>0.0</td>\n",
       "      <td>1.000000</td>\n",
       "      <td>0.993197</td>\n",
       "      <td>1.0</td>\n",
       "      <td>1.0</td>\n",
       "    </tr>\n",
       "    <tr>\n",
       "      <th>2</th>\n",
       "      <td>2</td>\n",
       "      <td>recall</td>\n",
       "      <td>1.0</td>\n",
       "      <td>0.0</td>\n",
       "      <td>1.0</td>\n",
       "      <td>0.0</td>\n",
       "      <td>0.0</td>\n",
       "      <td>1.0</td>\n",
       "      <td>0.0</td>\n",
       "      <td>1.000000</td>\n",
       "      <td>0.500000</td>\n",
       "      <td>1.0</td>\n",
       "      <td>0.886364</td>\n",
       "      <td>0.964286</td>\n",
       "      <td>0.0000</td>\n",
       "      <td>0.0</td>\n",
       "      <td>0.766667</td>\n",
       "      <td>0.0</td>\n",
       "      <td>0.947917</td>\n",
       "      <td>0.973333</td>\n",
       "      <td>1.0</td>\n",
       "      <td>1.0</td>\n",
       "    </tr>\n",
       "    <tr>\n",
       "      <th>3</th>\n",
       "      <td>3</td>\n",
       "      <td>f1</td>\n",
       "      <td>1.0</td>\n",
       "      <td>0.0</td>\n",
       "      <td>1.0</td>\n",
       "      <td>0.0</td>\n",
       "      <td>0.0</td>\n",
       "      <td>1.0</td>\n",
       "      <td>0.0</td>\n",
       "      <td>0.990253</td>\n",
       "      <td>0.666667</td>\n",
       "      <td>1.0</td>\n",
       "      <td>0.939759</td>\n",
       "      <td>0.981818</td>\n",
       "      <td>0.0000</td>\n",
       "      <td>0.0</td>\n",
       "      <td>0.867925</td>\n",
       "      <td>0.0</td>\n",
       "      <td>0.973262</td>\n",
       "      <td>0.983165</td>\n",
       "      <td>1.0</td>\n",
       "      <td>1.0</td>\n",
       "    </tr>\n",
       "    <tr>\n",
       "      <th>4</th>\n",
       "      <td>4</td>\n",
       "      <td>roc_auc</td>\n",
       "      <td>1.0</td>\n",
       "      <td>-1.0</td>\n",
       "      <td>1.0</td>\n",
       "      <td>-1.0</td>\n",
       "      <td>-1.0</td>\n",
       "      <td>1.0</td>\n",
       "      <td>-1.0</td>\n",
       "      <td>0.962121</td>\n",
       "      <td>0.750000</td>\n",
       "      <td>1.0</td>\n",
       "      <td>0.943182</td>\n",
       "      <td>0.982143</td>\n",
       "      <td>-1.0000</td>\n",
       "      <td>-1.0</td>\n",
       "      <td>0.883333</td>\n",
       "      <td>-1.0</td>\n",
       "      <td>0.973958</td>\n",
       "      <td>0.983725</td>\n",
       "      <td>1.0</td>\n",
       "      <td>-1.0</td>\n",
       "    </tr>\n",
       "  </tbody>\n",
       "</table>\n",
       "</div>"
      ],
      "text/plain": [
       "               bowl  monkey  blanket  lion  horse  bicycle  elephant  \\\n",
       "0  0      acc   1.0     1.0      1.0   1.0    1.0      1.0       1.0   \n",
       "1  1     prec   1.0     0.0      1.0   0.0    0.0      1.0       0.0   \n",
       "2  2   recall   1.0     0.0      1.0   0.0    0.0      1.0       0.0   \n",
       "3  3       f1   1.0     0.0      1.0   0.0    0.0      1.0       0.0   \n",
       "4  4  roc_auc   1.0    -1.0      1.0  -1.0   -1.0      1.0      -1.0   \n",
       "\n",
       "     pillow       cat  towel  cellular_telephone      book   truck  fish  \\\n",
       "0  0.984375  0.996875    1.0            0.984375  0.984375  0.9875   1.0   \n",
       "1  0.980695  1.000000    1.0            1.000000  1.000000  0.0000   0.0   \n",
       "2  1.000000  0.500000    1.0            0.886364  0.964286  0.0000   0.0   \n",
       "3  0.990253  0.666667    1.0            0.939759  0.981818  0.0000   0.0   \n",
       "4  0.962121  0.750000    1.0            0.943182  0.982143 -1.0000  -1.0   \n",
       "\n",
       "     bottle  ball       cup       dog  car  person  \n",
       "0  0.978125   1.0  0.984375  0.984375  1.0     1.0  \n",
       "1  1.000000   0.0  1.000000  0.993197  1.0     1.0  \n",
       "2  0.766667   0.0  0.947917  0.973333  1.0     1.0  \n",
       "3  0.867925   0.0  0.973262  0.983165  1.0     1.0  \n",
       "4  0.883333  -1.0  0.973958  0.983725  1.0    -1.0  "
      ]
     },
     "metadata": {},
     "output_type": "display_data"
    }
   ],
   "source": [
    "pd.set_option('display.max_columns', None)  # or 1000\n",
    "display(results.rename(lambda col: config_2.categories_decoder.get(int(col)) if col.isnumeric()  else \"\", axis=1))"
   ]
  },
  {
   "cell_type": "code",
   "execution_count": 86,
   "metadata": {},
   "outputs": [],
   "source": [
    "with open(\"raw_preds4.json\", \"r\") as f:\n",
    "    raw_preds = json.load(f)\n",
    "\n",
    "preds = list(zip(*list(raw_preds.values())))\n",
    "predsums = []\n",
    "for pred in preds:\n",
    "    predsums.append(sum(pred))\n"
   ]
  },
  {
   "cell_type": "code",
   "execution_count": 87,
   "metadata": {},
   "outputs": [],
   "source": [
    "with open(\"raw_labels4.json\", \"r\") as f:\n",
    "    raw_labels = json.load(f)"
   ]
  },
  {
   "cell_type": "code",
   "execution_count": 89,
   "metadata": {},
   "outputs": [
    {
     "data": {
      "text/plain": [
       "[<matplotlib.axis.XTick at 0x7f89a09cfcd0>,\n",
       " <matplotlib.axis.XTick at 0x7f89a09cfca0>,\n",
       " <matplotlib.axis.XTick at 0x7f89a09cfbb0>,\n",
       " <matplotlib.axis.XTick at 0x7f89a09e7d90>,\n",
       " <matplotlib.axis.XTick at 0x7f89a0820be0>,\n",
       " <matplotlib.axis.XTick at 0x7f89a0821690>,\n",
       " <matplotlib.axis.XTick at 0x7f89a0822140>]"
      ]
     },
     "execution_count": 89,
     "metadata": {},
     "output_type": "execute_result"
    },
    {
     "data": {
      "image/png": "[encoded data removed]",
      "text/plain": [
       "<Figure size 640x480 with 1 Axes>"
      ]
     },
     "metadata": {},
     "output_type": "display_data"
    }
   ],
   "source": [
    "bins = np.arange(0, 7.5) - 0.5\n",
    "fig, ax = plt.subplots()\n",
    "_ = ax.hist(predsums, bins)\n",
    "ax.set_xticks([0,1,2,3,4,5,6])"
   ]
  },
  {
   "cell_type": "code",
   "execution_count": 75,
   "metadata": {},
   "outputs": [
    {
     "data": {
      "text/plain": [
       "<sklearn.metrics._plot.confusion_matrix.ConfusionMatrixDisplay at 0x7f89cbc11f90>"
      ]
     },
     "execution_count": 75,
     "metadata": {},
     "output_type": "execute_result"
    },
    {
     "data": {
      "image/png": "[encoded data removed]",
      "text/plain": [
       "<Figure size 640x480 with 2 Axes>"
      ]
     },
     "metadata": {},
     "output_type": "display_data"
    }
   ],
   "source": [
    "metrics.ConfusionMatrixDisplay.from_predictions(raw_preds[\"805.0\"], raw_labels[\"805.0\"])"
   ]
  },
  {
   "cell_type": "code",
   "execution_count": 77,
   "metadata": {},
   "outputs": [
    {
     "data": {
      "text/plain": [
       "<sklearn.metrics._plot.confusion_matrix.ConfusionMatrixDisplay at 0x7f89cbc126e0>"
      ]
     },
     "execution_count": 77,
     "metadata": {},
     "output_type": "execute_result"
    },
    {
     "data": {
      "image/png": "[encoded data removed]",
      "text/plain": [
       "<Figure size 640x480 with 2 Axes>"
      ]
     },
     "metadata": {},
     "output_type": "display_data"
    }
   ],
   "source": [
    "metrics.ConfusionMatrixDisplay.from_predictions(raw_preds[\"660.0\"], raw_labels[\"660.0\"])"
   ]
  },
  {
   "cell_type": "code",
   "execution_count": 78,
   "metadata": {},
   "outputs": [
    {
     "data": {
      "text/plain": [
       "<sklearn.metrics._plot.confusion_matrix.ConfusionMatrixDisplay at 0x7f89a1228310>"
      ]
     },
     "execution_count": 78,
     "metadata": {},
     "output_type": "execute_result"
    },
    {
     "data": {
      "image/png": "[encoded data removed]",
      "text/plain": [
       "<Figure size 640x480 with 2 Axes>"
      ]
     },
     "metadata": {},
     "output_type": "display_data"
    }
   ],
   "source": [
    "metrics.ConfusionMatrixDisplay.from_predictions(raw_preds[\"382.0\"], raw_labels[\"382.0\"])"
   ]
  },
  {
   "cell_type": "code",
   "execution_count": 79,
   "metadata": {},
   "outputs": [
    {
     "data": {
      "text/plain": [
       "<sklearn.metrics._plot.confusion_matrix.ConfusionMatrixDisplay at 0x7f89a1007b50>"
      ]
     },
     "execution_count": 79,
     "metadata": {},
     "output_type": "execute_result"
    },
    {
     "data": {
      "image/png": "[encoded data removed]",
      "text/plain": [
       "<Figure size 640x480 with 2 Axes>"
      ]
     },
     "metadata": {},
     "output_type": "display_data"
    }
   ],
   "source": [
    "metrics.ConfusionMatrixDisplay.from_predictions(raw_preds[\"211.0\"], raw_labels[\"211.0\"])"
   ]
  },
  {
   "cell_type": "code",
   "execution_count": 82,
   "metadata": {},
   "outputs": [
    {
     "data": {
      "text/plain": [
       "<sklearn.metrics._plot.confusion_matrix.ConfusionMatrixDisplay at 0x7f89a0a8e8c0>"
      ]
     },
     "execution_count": 82,
     "metadata": {},
     "output_type": "execute_result"
    },
    {
     "data": {
      "image/png": "[encoded data removed]",
      "text/plain": [
       "<Figure size 640x480 with 2 Axes>"
      ]
     },
     "metadata": {},
     "output_type": "display_data"
    }
   ],
   "source": [
    "metrics.ConfusionMatrixDisplay.from_predictions(raw_preds[\"347.0\"], raw_labels[\"347.0\"])"
   ]
  }
 ],
 "metadata": {
  "kernelspec": {
   "display_name": "blockident",
   "language": "python",
   "name": "python3"
  },
  "language_info": {
   "codemirror_mode": {
    "name": "ipython",
    "version": 3
   },
   "file_extension": ".py",
   "mimetype": "text/x-python",
   "name": "python",
   "nbconvert_exporter": "python",
   "pygments_lexer": "ipython3",
   "version": "3.10.9"
  },
  "orig_nbformat": 4
 },
 "nbformat": 4,
 "nbformat_minor": 2
}
