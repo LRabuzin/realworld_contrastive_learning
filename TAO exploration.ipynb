{
 "cells": [
  {
   "cell_type": "code",
   "execution_count": 1,
   "id": "a9dff49b",
   "metadata": {},
   "outputs": [],
   "source": [
    "import numpy as np\n",
    "import matplotlib.pyplot as plt\n",
    "import os \n",
    "import glob\n",
    "import pandas as pd\n",
    "import json\n",
    "import itertools"
   ]
  },
  {
   "cell_type": "code",
   "execution_count": 2,
   "id": "4d260c88",
   "metadata": {},
   "outputs": [
    {
     "name": "stdout",
     "output_type": "stream",
     "text": [
      "Number of train videos 500, val videos 988, test videos 1421\n",
      "Number of train images 107144, val image 36375, test images 52194\n",
      "Total number of images 195713\n"
     ]
    }
   ],
   "source": [
    "# load labels\n",
    "with open(\"/home/lrabuzin/ETH/Sem3/sempro/train.json\",'r') as f:\n",
    "    data = json.loads(f.read())\n",
    "df_freeform = pd.json_normalize(data, record_path =['sequences'])\n",
    "with open(\"/home/lrabuzin/ETH/Sem3/sempro/all_classes_val.json\",'r') as f:\n",
    "    data = json.loads(f.read())\n",
    "df_freeform_val = pd.json_normalize(data, record_path =['sequences'])\n",
    "# df = pd.json_normalize(data, record_path =['videos'])\n",
    "with open(\"/home/lrabuzin/ETH/Sem3/sempro/all_classes_test.json\",'r') as f:\n",
    "    data = json.loads(f.read())\n",
    "df_freeform_test = pd.json_normalize(data, record_path =['sequences'])\n",
    "print(f\"Number of train videos {df_freeform.shape[0]}, val videos {df_freeform_val.shape[0]}, test videos {df_freeform_test.shape[0]}\")\n",
    "\n",
    "df_freeform[\"number_images\"]=df_freeform[\"annotated_image_paths\"].apply(lambda x: len(x))\n",
    "df_freeform_val[\"number_images\"]=df_freeform_val[\"annotated_image_paths\"].apply(lambda x: len(x))\n",
    "df_freeform_test[\"number_images\"]=df_freeform_test[\"annotated_image_paths\"].apply(lambda x: len(x))\n",
    "\n",
    "number_images_train=df_freeform[\"number_images\"].sum()\n",
    "number_images_val=df_freeform_val[\"number_images\"].sum()\n",
    "number_images_test=df_freeform_test[\"number_images\"].sum()\n",
    "number_total_images=number_images_train+number_images_val+number_images_test\n",
    "\n",
    "print(f\"Number of train images {number_images_train}, val image {number_images_val}, test images {number_images_test}\")\n",
    "print(f\"Total number of images {number_total_images}\")"
   ]
  },
  {
   "cell_type": "code",
   "execution_count": 4,
   "id": "532c0479",
   "metadata": {},
   "outputs": [
    {
     "data": {
      "text/html": [
       "<div>\n",
       "<style scoped>\n",
       "    .dataframe tbody tr th:only-of-type {\n",
       "        vertical-align: middle;\n",
       "    }\n",
       "\n",
       "    .dataframe tbody tr th {\n",
       "        vertical-align: top;\n",
       "    }\n",
       "\n",
       "    .dataframe thead th {\n",
       "        text-align: right;\n",
       "    }\n",
       "</style>\n",
       "<table border=\"1\" class=\"dataframe\">\n",
       "  <thead>\n",
       "    <tr style=\"text-align: right;\">\n",
       "      <th></th>\n",
       "      <th>width</th>\n",
       "      <th>height</th>\n",
       "      <th>id</th>\n",
       "      <th>seq_name</th>\n",
       "      <th>dataset</th>\n",
       "      <th>neg_category_ids</th>\n",
       "      <th>not_exhaustive_category_ids</th>\n",
       "      <th>all_image_paths</th>\n",
       "      <th>segmentations</th>\n",
       "      <th>annotated_image_paths</th>\n",
       "      <th>...</th>\n",
       "      <th>track_category_ids.2</th>\n",
       "      <th>track_category_ids.3</th>\n",
       "      <th>track_category_ids.4</th>\n",
       "      <th>track_category_ids.5</th>\n",
       "      <th>track_category_ids.6</th>\n",
       "      <th>track_category_ids.7</th>\n",
       "      <th>track_category_ids.8</th>\n",
       "      <th>track_category_ids.9</th>\n",
       "      <th>track_category_ids.10</th>\n",
       "      <th>number_images</th>\n",
       "    </tr>\n",
       "  </thead>\n",
       "  <tbody>\n",
       "    <tr>\n",
       "      <th>0</th>\n",
       "      <td>640</td>\n",
       "      <td>480</td>\n",
       "      <td>0</td>\n",
       "      <td>v_f69ebe5b731d3e87c1a3992ee39c3b7e</td>\n",
       "      <td>YFCC100M</td>\n",
       "      <td>[342, 57, 651, 357, 738]</td>\n",
       "      <td>[805, 95]</td>\n",
       "      <td>[frame0391.jpg, frame0392.jpg, frame0393.jpg, ...</td>\n",
       "      <td>[{'2': {'rle': 'R]Y29e&gt;4K&gt;C6K5K4M3L4L5K5K5K3M7...</td>\n",
       "      <td>[frame0391.jpg, frame0396.jpg, frame0401.jpg, ...</td>\n",
       "      <td>...</td>\n",
       "      <td>805.0</td>\n",
       "      <td>805.0</td>\n",
       "      <td>95.0</td>\n",
       "      <td>805.0</td>\n",
       "      <td>805.0</td>\n",
       "      <td>805.0</td>\n",
       "      <td>NaN</td>\n",
       "      <td>NaN</td>\n",
       "      <td>NaN</td>\n",
       "      <td>235</td>\n",
       "    </tr>\n",
       "    <tr>\n",
       "      <th>1</th>\n",
       "      <td>640</td>\n",
       "      <td>480</td>\n",
       "      <td>1</td>\n",
       "      <td>v_8b6283255797fc7e94f3a93947a2803</td>\n",
       "      <td>YFCC100M</td>\n",
       "      <td>[140, 36, 653, 1186, 985, 982]</td>\n",
       "      <td>[]</td>\n",
       "      <td>[frame0151.jpg, frame0152.jpg, frame0153.jpg, ...</td>\n",
       "      <td>[{'1': {'rle': 'SPk36f&gt;8L1O1QGBY3`0eLDY3&lt;eLGY3...</td>\n",
       "      <td>[frame0151.jpg, frame0156.jpg, frame0161.jpg, ...</td>\n",
       "      <td>...</td>\n",
       "      <td>133.0</td>\n",
       "      <td>805.0</td>\n",
       "      <td>805.0</td>\n",
       "      <td>554.0</td>\n",
       "      <td>805.0</td>\n",
       "      <td>NaN</td>\n",
       "      <td>NaN</td>\n",
       "      <td>NaN</td>\n",
       "      <td>NaN</td>\n",
       "      <td>235</td>\n",
       "    </tr>\n",
       "    <tr>\n",
       "      <th>2</th>\n",
       "      <td>640</td>\n",
       "      <td>480</td>\n",
       "      <td>3</td>\n",
       "      <td>v_9018a07931e02026b3bd6e82489d4624</td>\n",
       "      <td>YFCC100M</td>\n",
       "      <td>[112, 955, 357, 1043, 146, 349, 85]</td>\n",
       "      <td>[]</td>\n",
       "      <td>[frame0001.jpg, frame0002.jpg, frame0003.jpg, ...</td>\n",
       "      <td>[{'2': {'rle': 'Vi^5:e&gt;1O2N1N2YNAlDa0Q;ClD&gt;R;D...</td>\n",
       "      <td>[frame0001.jpg, frame0006.jpg, frame0011.jpg, ...</td>\n",
       "      <td>...</td>\n",
       "      <td>805.0</td>\n",
       "      <td>95.0</td>\n",
       "      <td>NaN</td>\n",
       "      <td>805.0</td>\n",
       "      <td>NaN</td>\n",
       "      <td>NaN</td>\n",
       "      <td>NaN</td>\n",
       "      <td>NaN</td>\n",
       "      <td>NaN</td>\n",
       "      <td>193</td>\n",
       "    </tr>\n",
       "    <tr>\n",
       "      <th>3</th>\n",
       "      <td>640</td>\n",
       "      <td>480</td>\n",
       "      <td>7</td>\n",
       "      <td>v_a556a65c3a85d0de0717b8cef2f219c</td>\n",
       "      <td>YFCC100M</td>\n",
       "      <td>[693, 398, 91, 882, 209, 1031, 236]</td>\n",
       "      <td>[611]</td>\n",
       "      <td>[frame0001.jpg, frame0002.jpg, frame0003.jpg, ...</td>\n",
       "      <td>[{'3': {'rle': 'e`P52m&gt;3L4M3N000000001O00000O1...</td>\n",
       "      <td>[frame0001.jpg, frame0006.jpg, frame0011.jpg, ...</td>\n",
       "      <td>...</td>\n",
       "      <td>757.0</td>\n",
       "      <td>611.0</td>\n",
       "      <td>757.0</td>\n",
       "      <td>805.0</td>\n",
       "      <td>611.0</td>\n",
       "      <td>NaN</td>\n",
       "      <td>NaN</td>\n",
       "      <td>NaN</td>\n",
       "      <td>NaN</td>\n",
       "      <td>217</td>\n",
       "    </tr>\n",
       "    <tr>\n",
       "      <th>4</th>\n",
       "      <td>640</td>\n",
       "      <td>480</td>\n",
       "      <td>9</td>\n",
       "      <td>v_6f90a13c795ef37404d95983341df</td>\n",
       "      <td>YFCC100M</td>\n",
       "      <td>[405, 693, 214, 1111, 790, 1186]</td>\n",
       "      <td>[805, 211]</td>\n",
       "      <td>[frame0121.jpg, frame0122.jpg, frame0123.jpg, ...</td>\n",
       "      <td>[{'1': {'rle': ']Q^63=OQ&gt;a0O000O1N2O10O01OO200...</td>\n",
       "      <td>[frame0121.jpg, frame0126.jpg, frame0131.jpg, ...</td>\n",
       "      <td>...</td>\n",
       "      <td>805.0</td>\n",
       "      <td>211.0</td>\n",
       "      <td>211.0</td>\n",
       "      <td>211.0</td>\n",
       "      <td>211.0</td>\n",
       "      <td>211.0</td>\n",
       "      <td>211.0</td>\n",
       "      <td>211.0</td>\n",
       "      <td>NaN</td>\n",
       "      <td>235</td>\n",
       "    </tr>\n",
       "    <tr>\n",
       "      <th>...</th>\n",
       "      <td>...</td>\n",
       "      <td>...</td>\n",
       "      <td>...</td>\n",
       "      <td>...</td>\n",
       "      <td>...</td>\n",
       "      <td>...</td>\n",
       "      <td>...</td>\n",
       "      <td>...</td>\n",
       "      <td>...</td>\n",
       "      <td>...</td>\n",
       "      <td>...</td>\n",
       "      <td>...</td>\n",
       "      <td>...</td>\n",
       "      <td>...</td>\n",
       "      <td>...</td>\n",
       "      <td>...</td>\n",
       "      <td>...</td>\n",
       "      <td>...</td>\n",
       "      <td>...</td>\n",
       "      <td>...</td>\n",
       "      <td>...</td>\n",
       "    </tr>\n",
       "    <tr>\n",
       "      <th>495</th>\n",
       "      <td>1280</td>\n",
       "      <td>720</td>\n",
       "      <td>2975</td>\n",
       "      <td>KA3ER</td>\n",
       "      <td>Charades</td>\n",
       "      <td>[254, 625, 480]</td>\n",
       "      <td>[74, 224, 133]</td>\n",
       "      <td>[frame0001.jpg, frame0002.jpg, frame0003.jpg, ...</td>\n",
       "      <td>[{'1': {'rle': 'Rce&gt;8Vf0&lt;D5K5K5K4L3K5^NlNb]OY1...</td>\n",
       "      <td>[frame0001.jpg, frame0006.jpg, frame0011.jpg, ...</td>\n",
       "      <td>...</td>\n",
       "      <td>133.0</td>\n",
       "      <td>74.0</td>\n",
       "      <td>224.0</td>\n",
       "      <td>NaN</td>\n",
       "      <td>NaN</td>\n",
       "      <td>NaN</td>\n",
       "      <td>NaN</td>\n",
       "      <td>NaN</td>\n",
       "      <td>NaN</td>\n",
       "      <td>181</td>\n",
       "    </tr>\n",
       "    <tr>\n",
       "      <th>496</th>\n",
       "      <td>1280</td>\n",
       "      <td>720</td>\n",
       "      <td>2976</td>\n",
       "      <td>I0THD</td>\n",
       "      <td>Charades</td>\n",
       "      <td>[1152, 794]</td>\n",
       "      <td>[805, 202, 133]</td>\n",
       "      <td>[frame0001.jpg, frame0002.jpg, frame0003.jpg, ...</td>\n",
       "      <td>[{'1': {'rle': 'Rba=3]f04K6K3TZODTe0OkZO&gt;1Kfd0...</td>\n",
       "      <td>[frame0001.jpg, frame0006.jpg, frame0011.jpg, ...</td>\n",
       "      <td>...</td>\n",
       "      <td>202.0</td>\n",
       "      <td>202.0</td>\n",
       "      <td>202.0</td>\n",
       "      <td>133.0</td>\n",
       "      <td>202.0</td>\n",
       "      <td>202.0</td>\n",
       "      <td>202.0</td>\n",
       "      <td>202.0</td>\n",
       "      <td>NaN</td>\n",
       "      <td>181</td>\n",
       "    </tr>\n",
       "    <tr>\n",
       "      <th>497</th>\n",
       "      <td>1280</td>\n",
       "      <td>720</td>\n",
       "      <td>2977</td>\n",
       "      <td>AVSN8</td>\n",
       "      <td>Charades</td>\n",
       "      <td>[74, 80, 709, 1215, 208]</td>\n",
       "      <td>[690, 851, 302]</td>\n",
       "      <td>[frame0001.jpg, frame0002.jpg, frame0003.jpg, ...</td>\n",
       "      <td>[{'1': {'rle': 'cgd:&lt;Rf0b0^O&lt;E6I4L4M2M4L4M1N2O...</td>\n",
       "      <td>[frame0001.jpg, frame0006.jpg, frame0011.jpg, ...</td>\n",
       "      <td>...</td>\n",
       "      <td>NaN</td>\n",
       "      <td>1088.0</td>\n",
       "      <td>1018.0</td>\n",
       "      <td>302.0</td>\n",
       "      <td>805.0</td>\n",
       "      <td>690.0</td>\n",
       "      <td>NaN</td>\n",
       "      <td>NaN</td>\n",
       "      <td>NaN</td>\n",
       "      <td>181</td>\n",
       "    </tr>\n",
       "    <tr>\n",
       "      <th>498</th>\n",
       "      <td>1280</td>\n",
       "      <td>720</td>\n",
       "      <td>2978</td>\n",
       "      <td>7P0JX</td>\n",
       "      <td>Charades</td>\n",
       "      <td>[97]</td>\n",
       "      <td>[805, 133]</td>\n",
       "      <td>[frame0001.jpg, frame0002.jpg, frame0003.jpg, ...</td>\n",
       "      <td>[{'1': {'rle': 'hio13]f06I7J6J6I7J6I5LO10O100O...</td>\n",
       "      <td>[frame0001.jpg, frame0006.jpg, frame0011.jpg, ...</td>\n",
       "      <td>...</td>\n",
       "      <td>133.0</td>\n",
       "      <td>NaN</td>\n",
       "      <td>NaN</td>\n",
       "      <td>NaN</td>\n",
       "      <td>NaN</td>\n",
       "      <td>NaN</td>\n",
       "      <td>NaN</td>\n",
       "      <td>NaN</td>\n",
       "      <td>NaN</td>\n",
       "      <td>199</td>\n",
       "    </tr>\n",
       "    <tr>\n",
       "      <th>499</th>\n",
       "      <td>1280</td>\n",
       "      <td>720</td>\n",
       "      <td>2987</td>\n",
       "      <td>8Q0EY</td>\n",
       "      <td>Charades</td>\n",
       "      <td>[720, 80, 717, 709]</td>\n",
       "      <td>[1128, 851, 1040, 1018]</td>\n",
       "      <td>[frame0001.jpg, frame0002.jpg, frame0003.jpg, ...</td>\n",
       "      <td>[{'1': {'rle': '\\i^=a0je0:I7@=K4J6J6K6F9K5J6L4...</td>\n",
       "      <td>[frame0001.jpg, frame0006.jpg, frame0011.jpg, ...</td>\n",
       "      <td>...</td>\n",
       "      <td>NaN</td>\n",
       "      <td>1018.0</td>\n",
       "      <td>1040.0</td>\n",
       "      <td>1128.0</td>\n",
       "      <td>NaN</td>\n",
       "      <td>NaN</td>\n",
       "      <td>NaN</td>\n",
       "      <td>NaN</td>\n",
       "      <td>NaN</td>\n",
       "      <td>187</td>\n",
       "    </tr>\n",
       "  </tbody>\n",
       "</table>\n",
       "<p>500 rows × 21 columns</p>\n",
       "</div>"
      ],
      "text/plain": [
       "     width  height    id                            seq_name   dataset  \\\n",
       "0      640     480     0  v_f69ebe5b731d3e87c1a3992ee39c3b7e  YFCC100M   \n",
       "1      640     480     1   v_8b6283255797fc7e94f3a93947a2803  YFCC100M   \n",
       "2      640     480     3  v_9018a07931e02026b3bd6e82489d4624  YFCC100M   \n",
       "3      640     480     7   v_a556a65c3a85d0de0717b8cef2f219c  YFCC100M   \n",
       "4      640     480     9     v_6f90a13c795ef37404d95983341df  YFCC100M   \n",
       "..     ...     ...   ...                                 ...       ...   \n",
       "495   1280     720  2975                               KA3ER  Charades   \n",
       "496   1280     720  2976                               I0THD  Charades   \n",
       "497   1280     720  2977                               AVSN8  Charades   \n",
       "498   1280     720  2978                               7P0JX  Charades   \n",
       "499   1280     720  2987                               8Q0EY  Charades   \n",
       "\n",
       "                        neg_category_ids not_exhaustive_category_ids  \\\n",
       "0               [342, 57, 651, 357, 738]                   [805, 95]   \n",
       "1         [140, 36, 653, 1186, 985, 982]                          []   \n",
       "2    [112, 955, 357, 1043, 146, 349, 85]                          []   \n",
       "3    [693, 398, 91, 882, 209, 1031, 236]                       [611]   \n",
       "4       [405, 693, 214, 1111, 790, 1186]                  [805, 211]   \n",
       "..                                   ...                         ...   \n",
       "495                      [254, 625, 480]              [74, 224, 133]   \n",
       "496                          [1152, 794]             [805, 202, 133]   \n",
       "497             [74, 80, 709, 1215, 208]             [690, 851, 302]   \n",
       "498                                 [97]                  [805, 133]   \n",
       "499                  [720, 80, 717, 709]     [1128, 851, 1040, 1018]   \n",
       "\n",
       "                                       all_image_paths  \\\n",
       "0    [frame0391.jpg, frame0392.jpg, frame0393.jpg, ...   \n",
       "1    [frame0151.jpg, frame0152.jpg, frame0153.jpg, ...   \n",
       "2    [frame0001.jpg, frame0002.jpg, frame0003.jpg, ...   \n",
       "3    [frame0001.jpg, frame0002.jpg, frame0003.jpg, ...   \n",
       "4    [frame0121.jpg, frame0122.jpg, frame0123.jpg, ...   \n",
       "..                                                 ...   \n",
       "495  [frame0001.jpg, frame0002.jpg, frame0003.jpg, ...   \n",
       "496  [frame0001.jpg, frame0002.jpg, frame0003.jpg, ...   \n",
       "497  [frame0001.jpg, frame0002.jpg, frame0003.jpg, ...   \n",
       "498  [frame0001.jpg, frame0002.jpg, frame0003.jpg, ...   \n",
       "499  [frame0001.jpg, frame0002.jpg, frame0003.jpg, ...   \n",
       "\n",
       "                                         segmentations  \\\n",
       "0    [{'2': {'rle': 'R]Y29e>4K>C6K5K4M3L4L5K5K5K3M7...   \n",
       "1    [{'1': {'rle': 'SPk36f>8L1O1QGBY3`0eLDY3<eLGY3...   \n",
       "2    [{'2': {'rle': 'Vi^5:e>1O2N1N2YNAlDa0Q;ClD>R;D...   \n",
       "3    [{'3': {'rle': 'e`P52m>3L4M3N000000001O00000O1...   \n",
       "4    [{'1': {'rle': ']Q^63=OQ>a0O000O1N2O10O01OO200...   \n",
       "..                                                 ...   \n",
       "495  [{'1': {'rle': 'Rce>8Vf0<D5K5K5K4L3K5^NlNb]OY1...   \n",
       "496  [{'1': {'rle': 'Rba=3]f04K6K3TZODTe0OkZO>1Kfd0...   \n",
       "497  [{'1': {'rle': 'cgd:<Rf0b0^O<E6I4L4M2M4L4M1N2O...   \n",
       "498  [{'1': {'rle': 'hio13]f06I7J6J6I7J6I5LO10O100O...   \n",
       "499  [{'1': {'rle': '\\i^=a0je0:I7@=K4J6J6K6F9K5J6L4...   \n",
       "\n",
       "                                 annotated_image_paths  ...  \\\n",
       "0    [frame0391.jpg, frame0396.jpg, frame0401.jpg, ...  ...   \n",
       "1    [frame0151.jpg, frame0156.jpg, frame0161.jpg, ...  ...   \n",
       "2    [frame0001.jpg, frame0006.jpg, frame0011.jpg, ...  ...   \n",
       "3    [frame0001.jpg, frame0006.jpg, frame0011.jpg, ...  ...   \n",
       "4    [frame0121.jpg, frame0126.jpg, frame0131.jpg, ...  ...   \n",
       "..                                                 ...  ...   \n",
       "495  [frame0001.jpg, frame0006.jpg, frame0011.jpg, ...  ...   \n",
       "496  [frame0001.jpg, frame0006.jpg, frame0011.jpg, ...  ...   \n",
       "497  [frame0001.jpg, frame0006.jpg, frame0011.jpg, ...  ...   \n",
       "498  [frame0001.jpg, frame0006.jpg, frame0011.jpg, ...  ...   \n",
       "499  [frame0001.jpg, frame0006.jpg, frame0011.jpg, ...  ...   \n",
       "\n",
       "     track_category_ids.2  track_category_ids.3  track_category_ids.4  \\\n",
       "0                   805.0                 805.0                  95.0   \n",
       "1                   133.0                 805.0                 805.0   \n",
       "2                   805.0                  95.0                   NaN   \n",
       "3                   757.0                 611.0                 757.0   \n",
       "4                   805.0                 211.0                 211.0   \n",
       "..                    ...                   ...                   ...   \n",
       "495                 133.0                  74.0                 224.0   \n",
       "496                 202.0                 202.0                 202.0   \n",
       "497                   NaN                1088.0                1018.0   \n",
       "498                 133.0                   NaN                   NaN   \n",
       "499                   NaN                1018.0                1040.0   \n",
       "\n",
       "     track_category_ids.5  track_category_ids.6  track_category_ids.7  \\\n",
       "0                   805.0                 805.0                 805.0   \n",
       "1                   554.0                 805.0                   NaN   \n",
       "2                   805.0                   NaN                   NaN   \n",
       "3                   805.0                 611.0                   NaN   \n",
       "4                   211.0                 211.0                 211.0   \n",
       "..                    ...                   ...                   ...   \n",
       "495                   NaN                   NaN                   NaN   \n",
       "496                 133.0                 202.0                 202.0   \n",
       "497                 302.0                 805.0                 690.0   \n",
       "498                   NaN                   NaN                   NaN   \n",
       "499                1128.0                   NaN                   NaN   \n",
       "\n",
       "     track_category_ids.8  track_category_ids.9  track_category_ids.10  \\\n",
       "0                     NaN                   NaN                    NaN   \n",
       "1                     NaN                   NaN                    NaN   \n",
       "2                     NaN                   NaN                    NaN   \n",
       "3                     NaN                   NaN                    NaN   \n",
       "4                   211.0                 211.0                    NaN   \n",
       "..                    ...                   ...                    ...   \n",
       "495                   NaN                   NaN                    NaN   \n",
       "496                 202.0                 202.0                    NaN   \n",
       "497                   NaN                   NaN                    NaN   \n",
       "498                   NaN                   NaN                    NaN   \n",
       "499                   NaN                   NaN                    NaN   \n",
       "\n",
       "     number_images  \n",
       "0              235  \n",
       "1              235  \n",
       "2              193  \n",
       "3              217  \n",
       "4              235  \n",
       "..             ...  \n",
       "495            181  \n",
       "496            181  \n",
       "497            181  \n",
       "498            199  \n",
       "499            187  \n",
       "\n",
       "[500 rows x 21 columns]"
      ]
     },
     "execution_count": 4,
     "metadata": {},
     "output_type": "execute_result"
    }
   ],
   "source": [
    "df_freeform"
   ]
  },
  {
   "cell_type": "code",
   "execution_count": 5,
   "id": "f255573a",
   "metadata": {},
   "outputs": [],
   "source": [
    "# create a row per image\n",
    "df_freeform = df_freeform.explode(['annotated_image_paths','segmentations'])\n",
    "df_freeform = df_freeform.reset_index(drop=True)\n",
    "df_freeform_val = df_freeform_val.explode(['annotated_image_paths','segmentations'])\n",
    "df_freeform_val = df_freeform_val.reset_index(drop=True)\n",
    "df_freeform_test = df_freeform_test.explode(['annotated_image_paths','segmentations'])\n",
    "df_freeform_test = df_freeform_test.reset_index(drop=True)"
   ]
  },
  {
   "cell_type": "code",
   "execution_count": 10,
   "id": "2b4e2eee",
   "metadata": {},
   "outputs": [
    {
     "data": {
      "text/plain": [
       "width                                                                        640\n",
       "height                                                                       480\n",
       "id                                                                             0\n",
       "seq_name                                      v_f69ebe5b731d3e87c1a3992ee39c3b7e\n",
       "dataset                                                                 YFCC100M\n",
       "neg_category_ids                                        [342, 57, 651, 357, 738]\n",
       "not_exhaustive_category_ids                                            [805, 95]\n",
       "all_image_paths                [frame0391.jpg, frame0392.jpg, frame0393.jpg, ...\n",
       "segmentations                  {'2': {'rle': 'R]Y29e>4K>C6K5K4M3L4L5K5K5K3M7I...\n",
       "annotated_image_paths                                              frame0391.jpg\n",
       "track_category_ids.1                                                        95.0\n",
       "track_category_ids.2                                                       805.0\n",
       "track_category_ids.3                                                       805.0\n",
       "track_category_ids.4                                                        95.0\n",
       "track_category_ids.5                                                       805.0\n",
       "track_category_ids.6                                                       805.0\n",
       "track_category_ids.7                                                       805.0\n",
       "track_category_ids.8                                                         NaN\n",
       "track_category_ids.9                                                         NaN\n",
       "track_category_ids.10                                                        NaN\n",
       "number_images                                                                235\n",
       "Name: 0, dtype: object"
      ]
     },
     "execution_count": 10,
     "metadata": {},
     "output_type": "execute_result"
    }
   ],
   "source": [
    "df_freeform.iloc[0]"
   ]
  },
  {
   "cell_type": "code",
   "execution_count": 4,
   "id": "e4fa4e35",
   "metadata": {},
   "outputs": [],
   "source": [
    "# create list of objects in each frame\n",
    "concat_func = lambda x: [x for x in [x[col] for col in x.index if col.startswith('track_category_ids.')] if x ==x ]\n",
    "df_freeform[\"list_object\"]=df_freeform.apply(concat_func, axis=1)\n",
    "df_freeform_val[\"list_object\"]=df_freeform_val.apply(concat_func, axis=1)\n",
    "df_freeform_test[\"list_object\"]=df_freeform_test.apply(concat_func, axis=1)"
   ]
  },
  {
   "cell_type": "code",
   "execution_count": 5,
   "id": "98dc805c",
   "metadata": {},
   "outputs": [
    {
     "data": {
      "image/png": "[encoded data removed]",
      "text/plain": [
       "<Figure size 500x500 with 3 Axes>"
      ]
     },
     "metadata": {},
     "output_type": "display_data"
    }
   ],
   "source": [
    "# create column with number of objects per frame\n",
    "df_freeform[\"nb_objects\"]=df_freeform[\"segmentations\"].apply(lambda x: len(list(x.keys()))) \n",
    "df_freeform_val[\"nb_objects\"]=df_freeform_val[\"segmentations\"].apply(lambda x: len(list(x.keys()))) \n",
    "df_freeform_test[\"nb_objects\"]=df_freeform_test[\"segmentations\"].apply(lambda x: len(list(x.keys()))) \n",
    "fig, ax = plt.subplots(3,figsize=(5,5))\n",
    "ax[0].hist(list(df_freeform[\"nb_objects\"].values),bins=10)\n",
    "ax[1].hist(list(df_freeform_val[\"nb_objects\"].values),bins=10)\n",
    "ax[2].hist(list(df_freeform_test[\"nb_objects\"].values),bins=10)\n",
    "ax[0].set_ylabel(\"train\")\n",
    "ax[1].set_ylabel(\"val\")\n",
    "ax[2].set_ylabel(\"test\")\n",
    "plt.title(\"Number of instances per frame\")\n",
    "plt.show()"
   ]
  },
  {
   "cell_type": "code",
   "execution_count": 6,
   "id": "0eb26938",
   "metadata": {},
   "outputs": [
    {
     "data": {
      "text/plain": [
       "0         [95.0, 805.0, 805.0, 95.0, 805.0, 805.0, 805.0]\n",
       "1         [95.0, 805.0, 805.0, 95.0, 805.0, 805.0, 805.0]\n",
       "2         [95.0, 805.0, 805.0, 95.0, 805.0, 805.0, 805.0]\n",
       "3         [95.0, 805.0, 805.0, 95.0, 805.0, 805.0, 805.0]\n",
       "4         [95.0, 805.0, 805.0, 95.0, 805.0, 805.0, 805.0]\n",
       "                               ...                       \n",
       "107139                    [805.0, 1018.0, 1040.0, 1128.0]\n",
       "107140                    [805.0, 1018.0, 1040.0, 1128.0]\n",
       "107141                    [805.0, 1018.0, 1040.0, 1128.0]\n",
       "107142                    [805.0, 1018.0, 1040.0, 1128.0]\n",
       "107143                    [805.0, 1018.0, 1040.0, 1128.0]\n",
       "Name: list_object, Length: 107144, dtype: object"
      ]
     },
     "execution_count": 6,
     "metadata": {},
     "output_type": "execute_result"
    }
   ],
   "source": [
    "df_freeform['list_object']"
   ]
  },
  {
   "cell_type": "code",
   "execution_count": 7,
   "id": "8a120c0e",
   "metadata": {},
   "outputs": [
    {
     "name": "stdout",
     "output_type": "stream",
     "text": [
      "Number of different classes in train 196, validation 302, test 369\n",
      "Total number of different classes 482\n"
     ]
    }
   ],
   "source": [
    "# understanding the distribution of classes\n",
    "train_classes=list(itertools.chain.from_iterable(list(df_freeform[\"list_object\"].values)))\n",
    "val_classes=list(itertools.chain.from_iterable(list(df_freeform_val[\"list_object\"].values)))\n",
    "test_classes=list(itertools.chain.from_iterable(list(df_freeform_test[\"list_object\"].values)))\n",
    "print(f\"Number of different classes in train {len(np.unique(train_classes))}, validation {len(np.unique(val_classes))}, test {len(np.unique(test_classes))}\")\n",
    "total_classes=np.unique(list(itertools.chain.from_iterable(list(df_freeform[\"list_object\"].values)+list(df_freeform_val[\"list_object\"].values)+list(df_freeform_test[\"list_object\"].values))))\n",
    "print(f\"Total number of different classes {len(total_classes)}\")"
   ]
  },
  {
   "cell_type": "code",
   "execution_count": 8,
   "id": "a53ab3f8",
   "metadata": {},
   "outputs": [
    {
     "data": {
      "image/png": "[encoded data removed]",
      "text/plain": [
       "<Figure size 1000x1000 with 3 Axes>"
      ]
     },
     "metadata": {},
     "output_type": "display_data"
    }
   ],
   "source": [
    "# plot diversity of classes \n",
    "values_train, frequencies_train = np.unique(train_classes, return_counts=True)\n",
    "order_train=np.argsort(frequencies_train)[::1]\n",
    "sorted_train=values_train[order_train]\n",
    "sorted_frequencies_train=frequencies_train[order_train]\n",
    "\n",
    "values_val, frequencies_val = np.unique(val_classes, return_counts=True)\n",
    "order_val=np.argsort(frequencies_val)#[::1]\n",
    "sorted_val=values_val[order_val]\n",
    "sorted_frequencies_val=frequencies_val[order_val]\n",
    "\n",
    "values_test, frequencies_test = np.unique(test_classes, return_counts=True)\n",
    "order_test=np.argsort(frequencies_test)#[::1]\n",
    "sorted_test=values_test[order_test]\n",
    "sorted_frequencies_test=frequencies_test[order_test]\n",
    "\n",
    "\n",
    "\n",
    "fig, ax = plt.subplots(3,figsize=(10,10))\n",
    "ax[0].bar(height=sorted_frequencies_train,x=np.arange(len(sorted_train)))\n",
    "ax[1].bar(height=sorted_frequencies_val,x=np.arange(len(sorted_val)))\n",
    "ax[2].bar(height=sorted_frequencies_test,x=np.arange(len(sorted_test)))\n",
    "ax[0].set_title(\"Train\")\n",
    "ax[1].set_title(\"Val\")\n",
    "ax[2].set_title(\"Test\")\n",
    "ax[0].set_yscale('log')\n",
    "ax[1].set_yscale('log')\n",
    "ax[2].set_yscale('log')\n",
    "plt.show()"
   ]
  },
  {
   "cell_type": "code",
   "execution_count": 9,
   "id": "74d37e06",
   "metadata": {},
   "outputs": [
    {
     "name": "stdout",
     "output_type": "stream",
     "text": [
      "Number of content labels 20, number of style labels 176\n"
     ]
    }
   ],
   "source": [
    "# selecting the classes with 150 frame occurence or more\n",
    "set_content=sorted_train[sorted_frequencies_train>=2000]\n",
    "set_style=sorted_train[sorted_frequencies_train<2000]\n",
    "print(f\"Number of content labels {len(set_content)}, number of style labels {len(set_style)}\")"
   ]
  },
  {
   "cell_type": "markdown",
   "id": "80addfdc",
   "metadata": {},
   "source": [
    "### Understanding how upper bound of number of pairs"
   ]
  },
  {
   "cell_type": "code",
   "execution_count": 10,
   "id": "fb15ced0",
   "metadata": {},
   "outputs": [],
   "source": [
    "# group by dataset\n",
    "df_freeform = df_freeform.groupby(\"seq_name\")\n",
    "df_freeform_val = df_freeform_val.groupby(\"seq_name\")\n",
    "df_freeform_test = df_freeform_test.groupby(\"seq_name\")"
   ]
  },
  {
   "cell_type": "code",
   "execution_count": 11,
   "id": "30e5f950",
   "metadata": {
    "scrolled": true
   },
   "outputs": [
    {
     "ename": "KeyboardInterrupt",
     "evalue": "",
     "output_type": "error",
     "traceback": [
      "\u001b[0;31m---------------------------------------------------------------------------\u001b[0m",
      "\u001b[0;31mKeyboardInterrupt\u001b[0m                         Traceback (most recent call last)",
      "Cell \u001b[0;32mIn[11], line 11\u001b[0m\n\u001b[1;32m      9\u001b[0m objects_list \u001b[39m=\u001b[39m [group[\u001b[39m'\u001b[39m\u001b[39mlist_object\u001b[39m\u001b[39m'\u001b[39m]\u001b[39m.\u001b[39miloc[\u001b[39m0\u001b[39m]] \u001b[39m*\u001b[39m \u001b[39mlen\u001b[39m(pairs_images)\n\u001b[1;32m     10\u001b[0m group_pairs_df \u001b[39m=\u001b[39m pd\u001b[39m.\u001b[39mDataFrame({\u001b[39m'\u001b[39m\u001b[39mimage1\u001b[39m\u001b[39m'\u001b[39m: [p[\u001b[39m0\u001b[39m] \u001b[39mfor\u001b[39;00m p \u001b[39min\u001b[39;00m pairs_images], \u001b[39m'\u001b[39m\u001b[39mimage2\u001b[39m\u001b[39m'\u001b[39m: [p[\u001b[39m1\u001b[39m] \u001b[39mfor\u001b[39;00m p \u001b[39min\u001b[39;00m pairs_images],\u001b[39m'\u001b[39m\u001b[39msegmentations1\u001b[39m\u001b[39m'\u001b[39m: [p[\u001b[39m0\u001b[39m] \u001b[39mfor\u001b[39;00m p \u001b[39min\u001b[39;00m pairs_segmentations], \u001b[39m'\u001b[39m\u001b[39msegmentations2\u001b[39m\u001b[39m'\u001b[39m: [p[\u001b[39m1\u001b[39m] \u001b[39mfor\u001b[39;00m p \u001b[39min\u001b[39;00m pairs_segmentations], \u001b[39m'\u001b[39m\u001b[39mdataset\u001b[39m\u001b[39m'\u001b[39m: dataset_list,\u001b[39m'\u001b[39m\u001b[39mseq_name\u001b[39m\u001b[39m'\u001b[39m:seq_list,\u001b[39m'\u001b[39m\u001b[39mobjects\u001b[39m\u001b[39m'\u001b[39m: objects_list})\n\u001b[0;32m---> 11\u001b[0m pairs_df \u001b[39m=\u001b[39m pd\u001b[39m.\u001b[39;49mconcat([pairs_df, group_pairs_df], ignore_index\u001b[39m=\u001b[39;49m\u001b[39mTrue\u001b[39;49;00m)\n",
      "File \u001b[0;32m~/.local/lib/python3.10/site-packages/pandas/util/_decorators.py:311\u001b[0m, in \u001b[0;36mdeprecate_nonkeyword_arguments.<locals>.decorate.<locals>.wrapper\u001b[0;34m(*args, **kwargs)\u001b[0m\n\u001b[1;32m    305\u001b[0m \u001b[39mif\u001b[39;00m \u001b[39mlen\u001b[39m(args) \u001b[39m>\u001b[39m num_allow_args:\n\u001b[1;32m    306\u001b[0m     warnings\u001b[39m.\u001b[39mwarn(\n\u001b[1;32m    307\u001b[0m         msg\u001b[39m.\u001b[39mformat(arguments\u001b[39m=\u001b[39marguments),\n\u001b[1;32m    308\u001b[0m         \u001b[39mFutureWarning\u001b[39;00m,\n\u001b[1;32m    309\u001b[0m         stacklevel\u001b[39m=\u001b[39mstacklevel,\n\u001b[1;32m    310\u001b[0m     )\n\u001b[0;32m--> 311\u001b[0m \u001b[39mreturn\u001b[39;00m func(\u001b[39m*\u001b[39;49margs, \u001b[39m*\u001b[39;49m\u001b[39m*\u001b[39;49mkwargs)\n",
      "File \u001b[0;32m~/.local/lib/python3.10/site-packages/pandas/core/reshape/concat.py:360\u001b[0m, in \u001b[0;36mconcat\u001b[0;34m(objs, axis, join, ignore_index, keys, levels, names, verify_integrity, sort, copy)\u001b[0m\n\u001b[1;32m    156\u001b[0m \u001b[39m\"\"\"\u001b[39;00m\n\u001b[1;32m    157\u001b[0m \u001b[39mConcatenate pandas objects along a particular axis with optional set logic\u001b[39;00m\n\u001b[1;32m    158\u001b[0m \u001b[39malong the other axes.\u001b[39;00m\n\u001b[0;32m   (...)\u001b[0m\n\u001b[1;32m    345\u001b[0m \u001b[39mValueError: Indexes have overlapping values: ['a']\u001b[39;00m\n\u001b[1;32m    346\u001b[0m \u001b[39m\"\"\"\u001b[39;00m\n\u001b[1;32m    347\u001b[0m op \u001b[39m=\u001b[39m _Concatenator(\n\u001b[1;32m    348\u001b[0m     objs,\n\u001b[1;32m    349\u001b[0m     axis\u001b[39m=\u001b[39maxis,\n\u001b[0;32m   (...)\u001b[0m\n\u001b[1;32m    357\u001b[0m     sort\u001b[39m=\u001b[39msort,\n\u001b[1;32m    358\u001b[0m )\n\u001b[0;32m--> 360\u001b[0m \u001b[39mreturn\u001b[39;00m op\u001b[39m.\u001b[39;49mget_result()\n",
      "File \u001b[0;32m~/.local/lib/python3.10/site-packages/pandas/core/reshape/concat.py:595\u001b[0m, in \u001b[0;36m_Concatenator.get_result\u001b[0;34m(self)\u001b[0m\n\u001b[1;32m    591\u001b[0m             indexers[ax] \u001b[39m=\u001b[39m obj_labels\u001b[39m.\u001b[39mget_indexer(new_labels)\n\u001b[1;32m    593\u001b[0m     mgrs_indexers\u001b[39m.\u001b[39mappend((obj\u001b[39m.\u001b[39m_mgr, indexers))\n\u001b[0;32m--> 595\u001b[0m new_data \u001b[39m=\u001b[39m concatenate_managers(\n\u001b[1;32m    596\u001b[0m     mgrs_indexers, \u001b[39mself\u001b[39;49m\u001b[39m.\u001b[39;49mnew_axes, concat_axis\u001b[39m=\u001b[39;49m\u001b[39mself\u001b[39;49m\u001b[39m.\u001b[39;49mbm_axis, copy\u001b[39m=\u001b[39;49m\u001b[39mself\u001b[39;49m\u001b[39m.\u001b[39;49mcopy\n\u001b[1;32m    597\u001b[0m )\n\u001b[1;32m    598\u001b[0m \u001b[39mif\u001b[39;00m \u001b[39mnot\u001b[39;00m \u001b[39mself\u001b[39m\u001b[39m.\u001b[39mcopy:\n\u001b[1;32m    599\u001b[0m     new_data\u001b[39m.\u001b[39m_consolidate_inplace()\n",
      "File \u001b[0;32m~/.local/lib/python3.10/site-packages/pandas/core/internals/concat.py:231\u001b[0m, in \u001b[0;36mconcatenate_managers\u001b[0;34m(mgrs_indexers, axes, concat_axis, copy)\u001b[0m\n\u001b[1;32m    225\u001b[0m vals \u001b[39m=\u001b[39m [ju\u001b[39m.\u001b[39mblock\u001b[39m.\u001b[39mvalues \u001b[39mfor\u001b[39;00m ju \u001b[39min\u001b[39;00m join_units]\n\u001b[1;32m    227\u001b[0m \u001b[39mif\u001b[39;00m \u001b[39mnot\u001b[39;00m blk\u001b[39m.\u001b[39mis_extension:\n\u001b[1;32m    228\u001b[0m     \u001b[39m# _is_uniform_join_units ensures a single dtype, so\u001b[39;00m\n\u001b[1;32m    229\u001b[0m     \u001b[39m#  we can use np.concatenate, which is more performant\u001b[39;00m\n\u001b[1;32m    230\u001b[0m     \u001b[39m#  than concat_compat\u001b[39;00m\n\u001b[0;32m--> 231\u001b[0m     values \u001b[39m=\u001b[39m np\u001b[39m.\u001b[39;49mconcatenate(vals, axis\u001b[39m=\u001b[39;49m\u001b[39m1\u001b[39;49m)\n\u001b[1;32m    232\u001b[0m \u001b[39melse\u001b[39;00m:\n\u001b[1;32m    233\u001b[0m     \u001b[39m# TODO(EA2D): special-casing not needed with 2D EAs\u001b[39;00m\n\u001b[1;32m    234\u001b[0m     values \u001b[39m=\u001b[39m concat_compat(vals, axis\u001b[39m=\u001b[39m\u001b[39m1\u001b[39m)\n",
      "File \u001b[0;32m<__array_function__ internals>:180\u001b[0m, in \u001b[0;36mconcatenate\u001b[0;34m(*args, **kwargs)\u001b[0m\n",
      "\u001b[0;31mKeyboardInterrupt\u001b[0m: "
     ]
    }
   ],
   "source": [
    "# create pairs of images\n",
    "pairs_df = pd.DataFrame(columns=['image1', 'image2','seq_name', 'dataset', 'segmentations1', 'segmentations2','objects'])\n",
    "\n",
    "for name, group in df_freeform:\n",
    "    pairs_images = list(itertools.combinations(group['annotated_image_paths'].tolist(),2))\n",
    "    pairs_segmentations= list(itertools.combinations(group['segmentations'].tolist(),2))\n",
    "    dataset_list = [group['dataset'].iloc[0]] * len(pairs_images)\n",
    "    seq_list = [group['seq_name'].iloc[0]] * len(pairs_images)\n",
    "    objects_list = [group['list_object'].iloc[0]] * len(pairs_images)\n",
    "    group_pairs_df = pd.DataFrame({'image1': [p[0] for p in pairs_images], 'image2': [p[1] for p in pairs_images],'segmentations1': [p[0] for p in pairs_segmentations], 'segmentations2': [p[1] for p in pairs_segmentations], 'dataset': dataset_list,'seq_name':seq_list,'objects': objects_list})\n",
    "    pairs_df = pd.concat([pairs_df, group_pairs_df], ignore_index=True)\n",
    "    #break"
   ]
  },
  {
   "cell_type": "code",
   "execution_count": null,
   "id": "9e7dac16",
   "metadata": {},
   "outputs": [],
   "source": [
    "pairs_df[\"present_objects1\"]=pairs_df.apply(lambda x: list(x[4].keys()),axis=1)\n",
    "#pairs_df[\"labels_objects1\"]=pairs_df.apply(lambda x: [x[6][int(y)-1] for y in list(x[4].keys())],axis=1)\n",
    "pairs_df[\"present_objects2\"]=pairs_df.apply(lambda x: list(x[5].keys()),axis=1)\n",
    "#pairs_df[\"labels_objects2\"]=pairs_df.apply(lambda x: [x[6][int(y)-1] for y in list(x[5].keys())],axis=1)"
   ]
  },
  {
   "cell_type": "code",
   "execution_count": null,
   "id": "6f4f7e4d",
   "metadata": {},
   "outputs": [
    {
     "name": "stderr",
     "output_type": "stream",
     "text": [
      "/home/lrabuzin/.conda/envs/blockident/lib/python3.10/site-packages/matplotlib/axes/_axes.py:6762: RuntimeWarning: All-NaN slice encountered\n",
      "  xmin = min(xmin, np.nanmin(xi))\n",
      "/home/lrabuzin/.conda/envs/blockident/lib/python3.10/site-packages/matplotlib/axes/_axes.py:6763: RuntimeWarning: All-NaN slice encountered\n",
      "  xmax = max(xmax, np.nanmax(xi))\n"
     ]
    },
    {
     "ename": "ValueError",
     "evalue": "autodetected range of [nan, nan] is not finite",
     "output_type": "error",
     "traceback": [
      "\u001b[0;31m---------------------------------------------------------------------------\u001b[0m",
      "\u001b[0;31mValueError\u001b[0m                                Traceback (most recent call last)",
      "Cell \u001b[0;32mIn[13], line 2\u001b[0m\n\u001b[1;32m      1\u001b[0m pairs_df[\u001b[39m\"\u001b[39m\u001b[39mnoise_instance\u001b[39m\u001b[39m\"\u001b[39m]\u001b[39m=\u001b[39mpairs_df\u001b[39m.\u001b[39mapply(\u001b[39mlambda\u001b[39;00m x: (\u001b[39mset\u001b[39m(x[\u001b[39m7\u001b[39m]) \u001b[39m&\u001b[39m \u001b[39mset\u001b[39m(x[\u001b[39m8\u001b[39m])))\n\u001b[0;32m----> 2\u001b[0m plt\u001b[39m.\u001b[39;49mhist(\u001b[39mlist\u001b[39;49m(pairs_df[\u001b[39m\"\u001b[39;49m\u001b[39mnoise_instance\u001b[39;49m\u001b[39m\"\u001b[39;49m]\u001b[39m.\u001b[39;49mvalues),bins\u001b[39m=\u001b[39;49m\u001b[39m10\u001b[39;49m)\n\u001b[1;32m      3\u001b[0m plt\u001b[39m.\u001b[39mtitle(\u001b[39m\"\u001b[39m\u001b[39mNumber of shared instances per pair\u001b[39m\u001b[39m\"\u001b[39m)\n\u001b[1;32m      4\u001b[0m plt\u001b[39m.\u001b[39mshow()\n",
      "File \u001b[0;32m~/.conda/envs/blockident/lib/python3.10/site-packages/matplotlib/pyplot.py:2618\u001b[0m, in \u001b[0;36mhist\u001b[0;34m(x, bins, range, density, weights, cumulative, bottom, histtype, align, orientation, rwidth, log, color, label, stacked, data, **kwargs)\u001b[0m\n\u001b[1;32m   2612\u001b[0m \u001b[39m@_copy_docstring_and_deprecators\u001b[39m(Axes\u001b[39m.\u001b[39mhist)\n\u001b[1;32m   2613\u001b[0m \u001b[39mdef\u001b[39;00m \u001b[39mhist\u001b[39m(\n\u001b[1;32m   2614\u001b[0m         x, bins\u001b[39m=\u001b[39m\u001b[39mNone\u001b[39;00m, \u001b[39mrange\u001b[39m\u001b[39m=\u001b[39m\u001b[39mNone\u001b[39;00m, density\u001b[39m=\u001b[39m\u001b[39mFalse\u001b[39;00m, weights\u001b[39m=\u001b[39m\u001b[39mNone\u001b[39;00m,\n\u001b[1;32m   2615\u001b[0m         cumulative\u001b[39m=\u001b[39m\u001b[39mFalse\u001b[39;00m, bottom\u001b[39m=\u001b[39m\u001b[39mNone\u001b[39;00m, histtype\u001b[39m=\u001b[39m\u001b[39m'\u001b[39m\u001b[39mbar\u001b[39m\u001b[39m'\u001b[39m, align\u001b[39m=\u001b[39m\u001b[39m'\u001b[39m\u001b[39mmid\u001b[39m\u001b[39m'\u001b[39m,\n\u001b[1;32m   2616\u001b[0m         orientation\u001b[39m=\u001b[39m\u001b[39m'\u001b[39m\u001b[39mvertical\u001b[39m\u001b[39m'\u001b[39m, rwidth\u001b[39m=\u001b[39m\u001b[39mNone\u001b[39;00m, log\u001b[39m=\u001b[39m\u001b[39mFalse\u001b[39;00m, color\u001b[39m=\u001b[39m\u001b[39mNone\u001b[39;00m,\n\u001b[1;32m   2617\u001b[0m         label\u001b[39m=\u001b[39m\u001b[39mNone\u001b[39;00m, stacked\u001b[39m=\u001b[39m\u001b[39mFalse\u001b[39;00m, \u001b[39m*\u001b[39m, data\u001b[39m=\u001b[39m\u001b[39mNone\u001b[39;00m, \u001b[39m*\u001b[39m\u001b[39m*\u001b[39mkwargs):\n\u001b[0;32m-> 2618\u001b[0m     \u001b[39mreturn\u001b[39;00m gca()\u001b[39m.\u001b[39;49mhist(\n\u001b[1;32m   2619\u001b[0m         x, bins\u001b[39m=\u001b[39;49mbins, \u001b[39mrange\u001b[39;49m\u001b[39m=\u001b[39;49m\u001b[39mrange\u001b[39;49m, density\u001b[39m=\u001b[39;49mdensity, weights\u001b[39m=\u001b[39;49mweights,\n\u001b[1;32m   2620\u001b[0m         cumulative\u001b[39m=\u001b[39;49mcumulative, bottom\u001b[39m=\u001b[39;49mbottom, histtype\u001b[39m=\u001b[39;49mhisttype,\n\u001b[1;32m   2621\u001b[0m         align\u001b[39m=\u001b[39;49malign, orientation\u001b[39m=\u001b[39;49morientation, rwidth\u001b[39m=\u001b[39;49mrwidth, log\u001b[39m=\u001b[39;49mlog,\n\u001b[1;32m   2622\u001b[0m         color\u001b[39m=\u001b[39;49mcolor, label\u001b[39m=\u001b[39;49mlabel, stacked\u001b[39m=\u001b[39;49mstacked,\n\u001b[1;32m   2623\u001b[0m         \u001b[39m*\u001b[39;49m\u001b[39m*\u001b[39;49m({\u001b[39m\"\u001b[39;49m\u001b[39mdata\u001b[39;49m\u001b[39m\"\u001b[39;49m: data} \u001b[39mif\u001b[39;49;00m data \u001b[39mis\u001b[39;49;00m \u001b[39mnot\u001b[39;49;00m \u001b[39mNone\u001b[39;49;00m \u001b[39melse\u001b[39;49;00m {}), \u001b[39m*\u001b[39;49m\u001b[39m*\u001b[39;49mkwargs)\n",
      "File \u001b[0;32m~/.conda/envs/blockident/lib/python3.10/site-packages/matplotlib/__init__.py:1442\u001b[0m, in \u001b[0;36m_preprocess_data.<locals>.inner\u001b[0;34m(ax, data, *args, **kwargs)\u001b[0m\n\u001b[1;32m   1439\u001b[0m \u001b[39m@functools\u001b[39m\u001b[39m.\u001b[39mwraps(func)\n\u001b[1;32m   1440\u001b[0m \u001b[39mdef\u001b[39;00m \u001b[39minner\u001b[39m(ax, \u001b[39m*\u001b[39margs, data\u001b[39m=\u001b[39m\u001b[39mNone\u001b[39;00m, \u001b[39m*\u001b[39m\u001b[39m*\u001b[39mkwargs):\n\u001b[1;32m   1441\u001b[0m     \u001b[39mif\u001b[39;00m data \u001b[39mis\u001b[39;00m \u001b[39mNone\u001b[39;00m:\n\u001b[0;32m-> 1442\u001b[0m         \u001b[39mreturn\u001b[39;00m func(ax, \u001b[39m*\u001b[39;49m\u001b[39mmap\u001b[39;49m(sanitize_sequence, args), \u001b[39m*\u001b[39;49m\u001b[39m*\u001b[39;49mkwargs)\n\u001b[1;32m   1444\u001b[0m     bound \u001b[39m=\u001b[39m new_sig\u001b[39m.\u001b[39mbind(ax, \u001b[39m*\u001b[39margs, \u001b[39m*\u001b[39m\u001b[39m*\u001b[39mkwargs)\n\u001b[1;32m   1445\u001b[0m     auto_label \u001b[39m=\u001b[39m (bound\u001b[39m.\u001b[39marguments\u001b[39m.\u001b[39mget(label_namer)\n\u001b[1;32m   1446\u001b[0m                   \u001b[39mor\u001b[39;00m bound\u001b[39m.\u001b[39mkwargs\u001b[39m.\u001b[39mget(label_namer))\n",
      "File \u001b[0;32m~/.conda/envs/blockident/lib/python3.10/site-packages/matplotlib/axes/_axes.py:6790\u001b[0m, in \u001b[0;36mAxes.hist\u001b[0;34m(self, x, bins, range, density, weights, cumulative, bottom, histtype, align, orientation, rwidth, log, color, label, stacked, **kwargs)\u001b[0m\n\u001b[1;32m   6786\u001b[0m \u001b[39m# Loop through datasets\u001b[39;00m\n\u001b[1;32m   6787\u001b[0m \u001b[39mfor\u001b[39;00m i \u001b[39min\u001b[39;00m \u001b[39mrange\u001b[39m(nx):\n\u001b[1;32m   6788\u001b[0m     \u001b[39m# this will automatically overwrite bins,\u001b[39;00m\n\u001b[1;32m   6789\u001b[0m     \u001b[39m# so that each histogram uses the same bins\u001b[39;00m\n\u001b[0;32m-> 6790\u001b[0m     m, bins \u001b[39m=\u001b[39m np\u001b[39m.\u001b[39;49mhistogram(x[i], bins, weights\u001b[39m=\u001b[39;49mw[i], \u001b[39m*\u001b[39;49m\u001b[39m*\u001b[39;49mhist_kwargs)\n\u001b[1;32m   6791\u001b[0m     tops\u001b[39m.\u001b[39mappend(m)\n\u001b[1;32m   6792\u001b[0m tops \u001b[39m=\u001b[39m np\u001b[39m.\u001b[39marray(tops, \u001b[39mfloat\u001b[39m)  \u001b[39m# causes problems later if it's an int\u001b[39;00m\n",
      "File \u001b[0;32m<__array_function__ internals>:180\u001b[0m, in \u001b[0;36mhistogram\u001b[0;34m(*args, **kwargs)\u001b[0m\n",
      "File \u001b[0;32m~/.conda/envs/blockident/lib/python3.10/site-packages/numpy/lib/histograms.py:793\u001b[0m, in \u001b[0;36mhistogram\u001b[0;34m(a, bins, range, normed, weights, density)\u001b[0m\n\u001b[1;32m    681\u001b[0m \u001b[39mr\u001b[39m\u001b[39m\"\"\"\u001b[39;00m\n\u001b[1;32m    682\u001b[0m \u001b[39mCompute the histogram of a dataset.\u001b[39;00m\n\u001b[1;32m    683\u001b[0m \n\u001b[0;32m   (...)\u001b[0m\n\u001b[1;32m    789\u001b[0m \n\u001b[1;32m    790\u001b[0m \u001b[39m\"\"\"\u001b[39;00m\n\u001b[1;32m    791\u001b[0m a, weights \u001b[39m=\u001b[39m _ravel_and_check_weights(a, weights)\n\u001b[0;32m--> 793\u001b[0m bin_edges, uniform_bins \u001b[39m=\u001b[39m _get_bin_edges(a, bins, \u001b[39mrange\u001b[39;49m, weights)\n\u001b[1;32m    795\u001b[0m \u001b[39m# Histogram is an integer or a float array depending on the weights.\u001b[39;00m\n\u001b[1;32m    796\u001b[0m \u001b[39mif\u001b[39;00m weights \u001b[39mis\u001b[39;00m \u001b[39mNone\u001b[39;00m:\n",
      "File \u001b[0;32m~/.conda/envs/blockident/lib/python3.10/site-packages/numpy/lib/histograms.py:426\u001b[0m, in \u001b[0;36m_get_bin_edges\u001b[0;34m(a, bins, range, weights)\u001b[0m\n\u001b[1;32m    423\u001b[0m     \u001b[39mif\u001b[39;00m n_equal_bins \u001b[39m<\u001b[39m \u001b[39m1\u001b[39m:\n\u001b[1;32m    424\u001b[0m         \u001b[39mraise\u001b[39;00m \u001b[39mValueError\u001b[39;00m(\u001b[39m'\u001b[39m\u001b[39m`bins` must be positive, when an integer\u001b[39m\u001b[39m'\u001b[39m)\n\u001b[0;32m--> 426\u001b[0m     first_edge, last_edge \u001b[39m=\u001b[39m _get_outer_edges(a, \u001b[39mrange\u001b[39;49m)\n\u001b[1;32m    428\u001b[0m \u001b[39melif\u001b[39;00m np\u001b[39m.\u001b[39mndim(bins) \u001b[39m==\u001b[39m \u001b[39m1\u001b[39m:\n\u001b[1;32m    429\u001b[0m     bin_edges \u001b[39m=\u001b[39m np\u001b[39m.\u001b[39masarray(bins)\n",
      "File \u001b[0;32m~/.conda/envs/blockident/lib/python3.10/site-packages/numpy/lib/histograms.py:323\u001b[0m, in \u001b[0;36m_get_outer_edges\u001b[0;34m(a, range)\u001b[0m\n\u001b[1;32m    321\u001b[0m     first_edge, last_edge \u001b[39m=\u001b[39m a\u001b[39m.\u001b[39mmin(), a\u001b[39m.\u001b[39mmax()\n\u001b[1;32m    322\u001b[0m     \u001b[39mif\u001b[39;00m \u001b[39mnot\u001b[39;00m (np\u001b[39m.\u001b[39misfinite(first_edge) \u001b[39mand\u001b[39;00m np\u001b[39m.\u001b[39misfinite(last_edge)):\n\u001b[0;32m--> 323\u001b[0m         \u001b[39mraise\u001b[39;00m \u001b[39mValueError\u001b[39;00m(\n\u001b[1;32m    324\u001b[0m             \u001b[39m\"\u001b[39m\u001b[39mautodetected range of [\u001b[39m\u001b[39m{}\u001b[39;00m\u001b[39m, \u001b[39m\u001b[39m{}\u001b[39;00m\u001b[39m] is not finite\u001b[39m\u001b[39m\"\u001b[39m\u001b[39m.\u001b[39mformat(first_edge, last_edge))\n\u001b[1;32m    326\u001b[0m \u001b[39m# expand empty range to avoid divide by zero\u001b[39;00m\n\u001b[1;32m    327\u001b[0m \u001b[39mif\u001b[39;00m first_edge \u001b[39m==\u001b[39m last_edge:\n",
      "\u001b[0;31mValueError\u001b[0m: autodetected range of [nan, nan] is not finite"
     ]
    },
    {
     "data": {
      "image/png": "[encoded data removed]",
      "text/plain": [
       "<Figure size 640x480 with 1 Axes>"
      ]
     },
     "metadata": {},
     "output_type": "display_data"
    }
   ],
   "source": [
    "pairs_df[\"noise_instance\"]=pairs_df.apply(lambda x: (set(x[7]) & set(x[8])))\n",
    "plt.hist(list(pairs_df[\"noise_instance\"].values),bins=10)\n",
    "plt.title(\"Number of shared instances per pair\")\n",
    "plt.show()"
   ]
  },
  {
   "cell_type": "code",
   "execution_count": null,
   "id": "c70b562e",
   "metadata": {},
   "outputs": [
    {
     "data": {
      "text/plain": [
       "Index(['image1', 'image2', 'seq_name', 'dataset', 'segmentations1',\n",
       "       'segmentations2', 'objects', 'present_objects1', 'present_objects2',\n",
       "       'noise_instance'],\n",
       "      dtype='object')"
      ]
     },
     "execution_count": 30,
     "metadata": {},
     "output_type": "execute_result"
    }
   ],
   "source": [
    "pairs_df.columns"
   ]
  },
  {
   "cell_type": "markdown",
   "id": "a5220a3e",
   "metadata": {},
   "source": [
    "### Getting pairs with one content object"
   ]
  },
  {
   "cell_type": "code",
   "execution_count": null,
   "id": "8c43d50a",
   "metadata": {},
   "outputs": [
    {
     "name": "stderr",
     "output_type": "stream",
     "text": [
      "/tmp/ipykernel_5504/3393196381.py:1: DeprecationWarning: elementwise comparison failed; this will raise an error in the future.\n",
      "  df_freeform[\"nb_objects_content\"]=df_freeform[\"list_object\"].apply(lambda x: sum(1 for k in x if k in set_content))\n"
     ]
    },
    {
     "ename": "TypeError",
     "evalue": "'DataFrameGroupBy' object does not support item assignment",
     "output_type": "error",
     "traceback": [
      "\u001b[0;31m---------------------------------------------------------------------------\u001b[0m",
      "\u001b[0;31mTypeError\u001b[0m                                 Traceback (most recent call last)",
      "Cell \u001b[0;32mIn[31], line 1\u001b[0m\n\u001b[0;32m----> 1\u001b[0m df_freeform[\u001b[39m\"\u001b[39m\u001b[39mnb_objects_content\u001b[39m\u001b[39m\"\u001b[39m]\u001b[39m=\u001b[39mdf_freeform[\u001b[39m\"\u001b[39m\u001b[39mlist_object\u001b[39m\u001b[39m\"\u001b[39m]\u001b[39m.\u001b[39mapply(\u001b[39mlambda\u001b[39;00m x: \u001b[39msum\u001b[39m(\u001b[39m1\u001b[39m \u001b[39mfor\u001b[39;00m k \u001b[39min\u001b[39;00m x \u001b[39mif\u001b[39;00m k \u001b[39min\u001b[39;00m set_content))\n\u001b[1;32m      2\u001b[0m df_freeform_val[\u001b[39m\"\u001b[39m\u001b[39mnb_objects_content\u001b[39m\u001b[39m\"\u001b[39m]\u001b[39m=\u001b[39mdf_freeform_val[\u001b[39m\"\u001b[39m\u001b[39mlist_object\u001b[39m\u001b[39m\"\u001b[39m]\u001b[39m.\u001b[39mapply(\u001b[39mlambda\u001b[39;00m x: \u001b[39msum\u001b[39m(\u001b[39m1\u001b[39m \u001b[39mfor\u001b[39;00m k \u001b[39min\u001b[39;00m x \u001b[39mif\u001b[39;00m k \u001b[39min\u001b[39;00m set_content))\n\u001b[1;32m      3\u001b[0m df_freeform_test[\u001b[39m\"\u001b[39m\u001b[39mnb_objects_content\u001b[39m\u001b[39m\"\u001b[39m]\u001b[39m=\u001b[39mdf_freeform_test[\u001b[39m\"\u001b[39m\u001b[39mlist_object\u001b[39m\u001b[39m\"\u001b[39m]\u001b[39m.\u001b[39mapply(\u001b[39mlambda\u001b[39;00m x: \u001b[39msum\u001b[39m(\u001b[39m1\u001b[39m \u001b[39mfor\u001b[39;00m k \u001b[39min\u001b[39;00m x \u001b[39mif\u001b[39;00m k \u001b[39min\u001b[39;00m set_content))\n",
      "\u001b[0;31mTypeError\u001b[0m: 'DataFrameGroupBy' object does not support item assignment"
     ]
    }
   ],
   "source": [
    "df_freeform[\"nb_objects_content\"]=df_freeform[\"list_object\"].apply(lambda x: sum(1 for k in x if k in set_content))\n",
    "df_freeform_val[\"nb_objects_content\"]=df_freeform_val[\"list_object\"].apply(lambda x: sum(1 for k in x if k in set_content))\n",
    "df_freeform_test[\"nb_objects_content\"]=df_freeform_test[\"list_object\"].apply(lambda x: sum(1 for k in x if k in set_content))\n",
    "\n",
    "plt.hist(df_freeform[\"nb_objects_content\"].values,bins=np.unique(df_freeform[\"nb_objects_content\"].values))\n",
    "plt.show()\n",
    "                                                                                            "
   ]
  },
  {
   "cell_type": "code",
   "execution_count": null,
   "id": "9ae47f2f",
   "metadata": {},
   "outputs": [
    {
     "name": "stdout",
     "output_type": "stream",
     "text": [
      "Number of train 107144, val 36375, test 52194 samples\n",
      "Number of train 13770, val 4756, test 6147 samples with 3 content objects\n"
     ]
    }
   ],
   "source": [
    "df_freeform_3c=df_freeform[df_freeform[\"nb_objects_content\"]==3]\n",
    "df_freeform_val_3c=df_freeform_val[df_freeform_val[\"nb_objects_content\"]==3]\n",
    "df_freeform_test_3c=df_freeform_test[df_freeform_test[\"nb_objects_content\"]==3]\n",
    "print(f\"Number of train {df_freeform.shape[0]}, val {df_freeform_val.shape[0]}, test {df_freeform_test.shape[0]} samples\")\n",
    "print(f\"Number of train {df_freeform_3c.shape[0]}, val {df_freeform_val_3c.shape[0]}, test {df_freeform_test_3c.shape[0]} samples with 3 content objects\")"
   ]
  },
  {
   "cell_type": "code",
   "execution_count": null,
   "id": "f90945d9",
   "metadata": {},
   "outputs": [
    {
     "name": "stdout",
     "output_type": "stream",
     "text": [
      "Number of different classes in train 55, validation 112, test 120\n",
      "Total number of different classes 190\n"
     ]
    }
   ],
   "source": [
    "# understanding the distribution of classes\n",
    "train_classes=list(itertools.chain.from_iterable(list(df_freeform_3c[\"list_object\"].values)))\n",
    "val_classes=list(itertools.chain.from_iterable(list(df_freeform_val_3c[\"list_object\"].values)))\n",
    "test_classes=list(itertools.chain.from_iterable(list(df_freeform_test_3c[\"list_object\"].values)))\n",
    "print(f\"Number of different classes in train {len(np.unique(train_classes))}, validation {len(np.unique(val_classes))}, test {len(np.unique(test_classes))}\")\n",
    "total_classes=np.unique(list(itertools.chain.from_iterable(list(df_freeform_3c[\"list_object\"].values)+list(df_freeform_val_3c[\"list_object\"].values)+list(df_freeform_test_3c[\"list_object\"].values))))\n",
    "print(f\"Total number of different classes {len(total_classes)}\")"
   ]
  },
  {
   "cell_type": "code",
   "execution_count": null,
   "id": "d10cf512",
   "metadata": {},
   "outputs": [
    {
     "data": {
      "image/png": "[encoded data removed]",
      "text/plain": [
       "<Figure size 1000x1000 with 3 Axes>"
      ]
     },
     "metadata": {},
     "output_type": "display_data"
    }
   ],
   "source": [
    "# plot diversity of classes \n",
    "values_train, frequencies_train = np.unique(train_classes, return_counts=True)\n",
    "order_train=np.argsort(frequencies_train)[::1]\n",
    "sorted_train=values_train[order_train]\n",
    "sorted_frequencies_train=frequencies_train[order_train]\n",
    "\n",
    "values_val, frequencies_val = np.unique(val_classes, return_counts=True)\n",
    "order_val=np.argsort(frequencies_val)#[::1]\n",
    "sorted_val=values_val[order_val]\n",
    "sorted_frequencies_val=frequencies_val[order_val]\n",
    "\n",
    "values_test, frequencies_test = np.unique(test_classes, return_counts=True)\n",
    "order_test=np.argsort(frequencies_test)#[::1]\n",
    "sorted_test=values_test[order_test]\n",
    "sorted_frequencies_test=frequencies_test[order_test]\n",
    "\n",
    "\n",
    "\n",
    "fig, ax = plt.subplots(3,figsize=(10,10))\n",
    "ax[0].bar(height=sorted_frequencies_train,x=np.arange(len(sorted_train)))\n",
    "ax[1].bar(height=sorted_frequencies_val,x=np.arange(len(sorted_val)))\n",
    "ax[2].bar(height=sorted_frequencies_test,x=np.arange(len(sorted_test)))\n",
    "ax[0].set_title(\"Train\")\n",
    "ax[1].set_title(\"Val\")\n",
    "ax[2].set_title(\"Test\")\n",
    "ax[0].set_yscale('log')\n",
    "ax[1].set_yscale('log')\n",
    "ax[2].set_yscale('log')\n",
    "plt.show()"
   ]
  },
  {
   "cell_type": "code",
   "execution_count": null,
   "id": "951c5180",
   "metadata": {},
   "outputs": [
    {
     "name": "stdout",
     "output_type": "stream",
     "text": [
      "Number of content labels 14, style labels 41\n"
     ]
    }
   ],
   "source": [
    "new_set_content=[x for x in set_content if x in np.unique(train_classes)]\n",
    "new_set_style=[x for x in set_style if x in np.unique(train_classes)]\n",
    "print(f'Number of content labels {len(new_set_content)}, style labels {len(new_set_style)}')"
   ]
  },
  {
   "cell_type": "markdown",
   "id": "f66007ca",
   "metadata": {},
   "source": [
    "### Positive pairs"
   ]
  },
  {
   "cell_type": "code",
   "execution_count": null,
   "id": "2aac0833",
   "metadata": {},
   "outputs": [],
   "source": [
    "# do all pairs, then do subset with same background\n",
    "# for each content labels check what proportion of images has them as content\n",
    "# check how many of the image pairs have same background\n",
    "pairs_images = list(itertools.combinations(df_freeform_3c['annotated_image_paths'].tolist(),2))\n",
    "pairs_segmentations= list(itertools.combinations(df_freeform_3c['segmentations'].tolist(),2))\n",
    "pairs_objects= list(itertools.combinations(df_freeform_3c['list_object'].tolist(),2))\n",
    "pairs_dataset = list(itertools.combinations(df_freeform_3c['dataset'].tolist(),2))\n",
    "pairs_sequence = list(itertools.combinations(df_freeform_3c[\"seq_name\"].tolist(),2))\n",
    "pairs_df_3c = pd.DataFrame({'image1': [p[0] for p in pairs_images], \\\n",
    "                            'image2': [p[1] for p in pairs_images],\\\n",
    "                            'segmentations1': [p[0] for p in pairs_segmentations], \\\n",
    "                            'segmentations2': [p[1] for p in pairs_segmentations], \\\n",
    "                            'dataset1': [p[0] for p in pairs_dataset], \\\n",
    "                            'dataset2': [p[1] for p in pairs_dataset], \\\n",
    "                            'seq_name1': [p[0] for p in pairs_sequence], \\\n",
    "                            'seq_name2': [p[1] for p in pairs_sequence], \\\n",
    "                            'objects1': [p[0] for p in pairs_objects], \\\n",
    "                            'objects2': [p[1] for p in pairs_objects], \n",
    "                           })\n"
   ]
  },
  {
   "cell_type": "code",
   "execution_count": null,
   "id": "255f46d9",
   "metadata": {},
   "outputs": [],
   "source": [
    "pairs_df_3c[\"content\"]=pairs_df_3c.apply(lambda x: list(set(x['objects1']) & set(x['objects2'])),axis=1)\n"
   ]
  },
  {
   "cell_type": "code",
   "execution_count": null,
   "id": "2d128ee1",
   "metadata": {},
   "outputs": [],
   "source": [
    "pairs_df_3c[\"shared_style\"]=pairs_df_3c[\"content\"].apply(lambda x: [k for k in x if k in new_set_style])\n",
    "pairs_df_3c[\"content\"]=pairs_df_3c[\"content\"].apply(lambda x: [k for k in x if k in new_set_content])"
   ]
  },
  {
   "cell_type": "code",
   "execution_count": null,
   "id": "ec81ab0c",
   "metadata": {},
   "outputs": [],
   "source": [
    "# stats : how many pairs of positives ? \n",
    "pairs_df_3c[\"size_content\"]=pairs_df_3c[\"content\"].apply(lambda x: len(x))\n",
    "pairs_positives=pairs_df_3c[pairs_df_3c[\"size_content\"]==3]\n",
    "\n"
   ]
  },
  {
   "cell_type": "code",
   "execution_count": null,
   "id": "1adf57c8",
   "metadata": {},
   "outputs": [
    {
     "name": "stdout",
     "output_type": "stream",
     "text": [
      "Number of positive pairs 590833\n"
     ]
    }
   ],
   "source": [
    "print(f\"Number of positive pairs {pairs_positives.shape[0]}\")"
   ]
  },
  {
   "cell_type": "code",
   "execution_count": null,
   "id": "c9b06e0a",
   "metadata": {},
   "outputs": [
    {
     "name": "stdout",
     "output_type": "stream",
     "text": [
      "Number of positives pairs with matching backgrounds: 336024, (0.5687292348260845%)\n"
     ]
    },
    {
     "name": "stderr",
     "output_type": "stream",
     "text": [
      "/var/folders/3n/j0pgdynx1jnbhhdf5wlk64x00000gn/T/ipykernel_86255/1173762163.py:6: SettingWithCopyWarning: \n",
      "A value is trying to be set on a copy of a slice from a DataFrame.\n",
      "Try using .loc[row_indexer,col_indexer] = value instead\n",
      "\n",
      "See the caveats in the documentation: https://pandas.pydata.org/pandas-docs/stable/user_guide/indexing.html#returning-a-view-versus-a-copy\n",
      "  pairs_positives[\"matching_seq\"]=pairs_positives[\"seq_name1\"]==pairs_positives[\"seq_name2\"]\n"
     ]
    }
   ],
   "source": [
    "# # among these how many negatives ? \n",
    "# pairs_df_3c[\"size_content\"]=pairs_df_3c[\"content\"].apply(lambda x: len(x))\n",
    "# pairs_negative=pairs_df_3c[pairs_df_3c[\"size_content\"]==0]\n",
    "\n",
    "# among these how many share the same background / same sequence ? \n",
    "pairs_positives[\"matching_seq\"]=pairs_positives[\"seq_name1\"]==pairs_positives[\"seq_name2\"]\n",
    "nb_pos_matching=pairs_positives[pairs_positives[\"matching_seq\"]==True].shape[0]\n",
    "print(f\"Number of positives pairs with matching backgrounds: {nb_pos_matching}, ({nb_pos_matching/pairs_positives.shape[0]}%)\")\n",
    "# pairs_negative[\"matching_seq\"]=pairs_negative.apply(lambda x: x[\"sequence1\"] == x[\"sequence2\"])\n",
    "# nb_neg_matching=pairs_negative[pairs_negative[\"matching_seq\"]==True].shape[0]\n",
    "# print(f\"Number of negatives pairs with matching backgrounds: {nb_neg_matching}, ({nb_neg_matching/pairs_negative.shape[0]}%)\")\n",
    "\n"
   ]
  },
  {
   "cell_type": "markdown",
   "id": "903e3911",
   "metadata": {},
   "source": [
    "### Negative pairs\n",
    "- pairs that contain no content objects\n",
    "- for each image in the positive batch, how many potential negatives: do an average of that"
   ]
  },
  {
   "cell_type": "code",
   "execution_count": null,
   "id": "f7d12d79",
   "metadata": {},
   "outputs": [
    {
     "name": "stdout",
     "output_type": "stream",
     "text": [
      "Number of content arrangements found in positives pairs : 16\n"
     ]
    }
   ],
   "source": [
    "# get all object list for each image involved in positive pairs\n",
    "unique_content_arrangements=pairs_positives[\"content\"].values\n",
    "tmp_unique=[]\n",
    "for i in unique_content_arrangements:\n",
    "    if i in tmp_unique:\n",
    "        pass\n",
    "    else: tmp_unique.append(i)\n",
    "    \n",
    "images_positives=pd.DataFrame({\"content_list\":tmp_unique,\"number_negatives\":np.zeros(len(tmp_unique))})\n",
    "print(f\"Number of content arrangements found in positives pairs : {len(tmp_unique)}\")                                                              "
   ]
  },
  {
   "cell_type": "code",
   "execution_count": null,
   "id": "b7c638c7",
   "metadata": {},
   "outputs": [
    {
     "name": "stdout",
     "output_type": "stream",
     "text": [
      "0\n"
     ]
    },
    {
     "name": "stderr",
     "output_type": "stream",
     "text": [
      "/var/folders/3n/j0pgdynx1jnbhhdf5wlk64x00000gn/T/ipykernel_86255/2855429388.py:7: SettingWithCopyWarning: \n",
      "A value is trying to be set on a copy of a slice from a DataFrame.\n",
      "Try using .loc[row_indexer,col_indexer] = value instead\n",
      "\n",
      "See the caveats in the documentation: https://pandas.pydata.org/pandas-docs/stable/user_guide/indexing.html#returning-a-view-versus-a-copy\n",
      "  images_positives.iloc[[i]][\"number_negatives\"]=n\n"
     ]
    },
    {
     "name": "stdout",
     "output_type": "stream",
     "text": [
      "1\n",
      "2\n",
      "3\n",
      "4\n",
      "5\n",
      "6\n",
      "7\n",
      "8\n",
      "9\n",
      "10\n",
      "11\n",
      "12\n",
      "13\n",
      "14\n",
      "15\n"
     ]
    }
   ],
   "source": [
    "for i, arr in enumerate(tmp_unique):\n",
    "    print(i)\n",
    "    n=0\n",
    "    for j, tmp_list in enumerate(df_freeform[\"list_object\"].values):\n",
    "        #print(list(set(arr) & set(tmp_list)),set(tmp_list),set(arr))\n",
    "        if len(list(set(arr) & set(tmp_list))) == 0: n+=1\n",
    "        images_positives.iloc[[i]][\"number_negatives\"]=n"
   ]
  },
  {
   "cell_type": "code",
   "execution_count": null,
   "id": "2df901b6",
   "metadata": {},
   "outputs": [
    {
     "data": {
      "text/plain": [
       "15    0.0\n",
       "Name: number_negatives, dtype: float64"
      ]
     },
     "execution_count": 133,
     "metadata": {},
     "output_type": "execute_result"
    }
   ],
   "source": [
    "images_positives.iloc[[i]][\"number_negatives\"]"
   ]
  }
 ],
 "metadata": {
  "kernelspec": {
   "display_name": "blockident",
   "language": "python",
   "name": "python3"
  },
  "language_info": {
   "codemirror_mode": {
    "name": "ipython",
    "version": 3
   },
   "file_extension": ".py",
   "mimetype": "text/x-python",
   "name": "python",
   "nbconvert_exporter": "python",
   "pygments_lexer": "ipython3",
   "version": "3.10.9"
  }
 },
 "nbformat": 4,
 "nbformat_minor": 5
}
